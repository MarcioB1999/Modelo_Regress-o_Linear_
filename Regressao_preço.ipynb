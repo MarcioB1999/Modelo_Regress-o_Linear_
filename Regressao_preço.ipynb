{
  "cells": [
    {
      "cell_type": "markdown",
      "metadata": {
        "id": "view-in-github",
        "colab_type": "text"
      },
      "source": [
        "<a href=\"https://colab.research.google.com/github/MarcioB1999/Aprendizado_de_Maquina/blob/main/Regressao_pre%C3%A7o.ipynb\" target=\"_parent\"><img src=\"https://colab.research.google.com/assets/colab-badge.svg\" alt=\"Open In Colab\"/></a>"
      ]
    },
    {
      "cell_type": "code",
      "source": [
        "!pip install pyod"
      ],
      "metadata": {
        "id": "UUG_NNx80zLd",
        "colab": {
          "base_uri": "https://localhost:8080/"
        },
        "outputId": "eb7e35dc-47db-42fc-d7f5-f573802c9401"
      },
      "id": "UUG_NNx80zLd",
      "execution_count": 52,
      "outputs": [
        {
          "output_type": "stream",
          "name": "stdout",
          "text": [
            "Looking in indexes: https://pypi.org/simple, https://us-python.pkg.dev/colab-wheels/public/simple/\n",
            "Requirement already satisfied: pyod in /usr/local/lib/python3.7/dist-packages (1.0.4)\n",
            "Requirement already satisfied: scikit-learn>=0.20.0 in /usr/local/lib/python3.7/dist-packages (from pyod) (1.0.2)\n",
            "Requirement already satisfied: six in /usr/local/lib/python3.7/dist-packages (from pyod) (1.15.0)\n",
            "Requirement already satisfied: joblib in /usr/local/lib/python3.7/dist-packages (from pyod) (1.1.0)\n",
            "Requirement already satisfied: matplotlib in /usr/local/lib/python3.7/dist-packages (from pyod) (3.2.2)\n",
            "Requirement already satisfied: statsmodels in /usr/local/lib/python3.7/dist-packages (from pyod) (0.10.2)\n",
            "Requirement already satisfied: scipy>=1.5.1 in /usr/local/lib/python3.7/dist-packages (from pyod) (1.7.3)\n",
            "Requirement already satisfied: numpy>=1.19 in /usr/local/lib/python3.7/dist-packages (from pyod) (1.21.6)\n",
            "Requirement already satisfied: numba>=0.51 in /usr/local/lib/python3.7/dist-packages (from pyod) (0.51.2)\n",
            "Requirement already satisfied: llvmlite<0.35,>=0.34.0.dev0 in /usr/local/lib/python3.7/dist-packages (from numba>=0.51->pyod) (0.34.0)\n",
            "Requirement already satisfied: setuptools in /usr/local/lib/python3.7/dist-packages (from numba>=0.51->pyod) (57.4.0)\n",
            "Requirement already satisfied: threadpoolctl>=2.0.0 in /usr/local/lib/python3.7/dist-packages (from scikit-learn>=0.20.0->pyod) (3.1.0)\n",
            "Requirement already satisfied: cycler>=0.10 in /usr/local/lib/python3.7/dist-packages (from matplotlib->pyod) (0.11.0)\n",
            "Requirement already satisfied: python-dateutil>=2.1 in /usr/local/lib/python3.7/dist-packages (from matplotlib->pyod) (2.8.2)\n",
            "Requirement already satisfied: kiwisolver>=1.0.1 in /usr/local/lib/python3.7/dist-packages (from matplotlib->pyod) (1.4.4)\n",
            "Requirement already satisfied: pyparsing!=2.0.4,!=2.1.2,!=2.1.6,>=2.0.1 in /usr/local/lib/python3.7/dist-packages (from matplotlib->pyod) (3.0.9)\n",
            "Requirement already satisfied: typing-extensions in /usr/local/lib/python3.7/dist-packages (from kiwisolver>=1.0.1->matplotlib->pyod) (4.1.1)\n",
            "Requirement already satisfied: pandas>=0.19 in /usr/local/lib/python3.7/dist-packages (from statsmodels->pyod) (1.3.5)\n",
            "Requirement already satisfied: patsy>=0.4.0 in /usr/local/lib/python3.7/dist-packages (from statsmodels->pyod) (0.5.2)\n",
            "Requirement already satisfied: pytz>=2017.3 in /usr/local/lib/python3.7/dist-packages (from pandas>=0.19->statsmodels->pyod) (2022.1)\n"
          ]
        }
      ]
    },
    {
      "cell_type": "code",
      "execution_count": 53,
      "id": "ad4395cc",
      "metadata": {
        "id": "ad4395cc"
      },
      "outputs": [],
      "source": [
        "import pandas as pd\n",
        "import seaborn as sns\n",
        "import numpy as np\n",
        "from matplotlib import pyplot as plt\n",
        "from collections import Counter as ct\n",
        "from sklearn import datasets, metrics, svm\n",
        "from sklearn.model_selection import train_test_split\n",
        "from sklearn.tree import DecisionTreeClassifier as dtc\n",
        "from sklearn.neural_network import MLPRegressor as rn\n",
        "from mlxtend.plotting import plot_decision_regions\n",
        "from sklearn.linear_model import LinearRegression\n",
        "import statsmodels.api as smi\n",
        "from scipy import stats\n",
        "import matplotlib.gridspec as gridspec\n",
        "from scipy.optimize import curve_fit\n",
        "from sklearn.decomposition import PCA\n",
        "from sklearn.preprocessing import StandardScaler\n",
        "from sklearn.impute import KNNImputer\n",
        "from datetime import datetime\n",
        "from pyod.models.knn import KNN\n",
        "from sklearn.model_selection import cross_val_score, KFold\n",
        "from sklearn.metrics import mean_absolute_error, mean_squared_error"
      ]
    },
    {
      "cell_type": "code",
      "source": [
        "from google.colab import drive\n",
        "drive.mount('/content/drive')"
      ],
      "metadata": {
        "id": "xNUCxS6oyHTm",
        "colab": {
          "base_uri": "https://localhost:8080/"
        },
        "outputId": "da914071-7858-49d4-8fcc-69f03694fb8e"
      },
      "id": "xNUCxS6oyHTm",
      "execution_count": 54,
      "outputs": [
        {
          "output_type": "stream",
          "name": "stdout",
          "text": [
            "Drive already mounted at /content/drive; to attempt to forcibly remount, call drive.mount(\"/content/drive\", force_remount=True).\n"
          ]
        }
      ]
    },
    {
      "cell_type": "markdown",
      "source": [
        "# **Tratamento dos Dados**"
      ],
      "metadata": {
        "id": "TQZILY19a7pH"
      },
      "id": "TQZILY19a7pH"
    },
    {
      "cell_type": "code",
      "execution_count": 55,
      "id": "9a0f6d05",
      "metadata": {
        "id": "9a0f6d05",
        "colab": {
          "base_uri": "https://localhost:8080/",
          "height": 300
        },
        "outputId": "d4d3c481-24dc-454c-f4ae-4ccb85f41aeb"
      },
      "outputs": [
        {
          "output_type": "execute_result",
          "data": {
            "text/plain": [
              "           id             date     price  bedrooms  bathrooms  sqft_living  \\\n",
              "0  7129300520  20141013T000000  221900.0       3.0       1.00         1180   \n",
              "1  6414100192  20141209T000000  538000.0       3.0       2.25         2570   \n",
              "2  5631500400  20150225T000000  180000.0       2.0       1.00          770   \n",
              "3  2487200875  20141209T000000  604000.0       4.0       3.00         1960   \n",
              "4  1954400510  20150218T000000  510000.0       3.0       2.00         1680   \n",
              "\n",
              "   sqft_lot  floors  waterfront  view  ...  grade  sqft_above  sqft_basement  \\\n",
              "0      5650     1.0           0     0  ...      7        1180              0   \n",
              "1      7242     2.0           0     0  ...      7        2170            400   \n",
              "2     10000     1.0           0     0  ...      6         770              0   \n",
              "3      5000     1.0           0     0  ...      7        1050            910   \n",
              "4      8080     1.0           0     0  ...      8        1680              0   \n",
              "\n",
              "   yr_built  yr_renovated  zipcode      lat     long  sqft_living15  \\\n",
              "0      1955             0    98178  47.5112 -122.257           1340   \n",
              "1      1951          1991    98125  47.7210 -122.319           1690   \n",
              "2      1933             0    98028  47.7379 -122.233           2720   \n",
              "3      1965             0    98136  47.5208 -122.393           1360   \n",
              "4      1987             0    98074  47.6168 -122.045           1800   \n",
              "\n",
              "   sqft_lot15  \n",
              "0        5650  \n",
              "1        7639  \n",
              "2        8062  \n",
              "3        5000  \n",
              "4        7503  \n",
              "\n",
              "[5 rows x 21 columns]"
            ],
            "text/html": [
              "\n",
              "  <div id=\"df-795463a1-4cf8-48fb-a624-4bd3dc90141a\">\n",
              "    <div class=\"colab-df-container\">\n",
              "      <div>\n",
              "<style scoped>\n",
              "    .dataframe tbody tr th:only-of-type {\n",
              "        vertical-align: middle;\n",
              "    }\n",
              "\n",
              "    .dataframe tbody tr th {\n",
              "        vertical-align: top;\n",
              "    }\n",
              "\n",
              "    .dataframe thead th {\n",
              "        text-align: right;\n",
              "    }\n",
              "</style>\n",
              "<table border=\"1\" class=\"dataframe\">\n",
              "  <thead>\n",
              "    <tr style=\"text-align: right;\">\n",
              "      <th></th>\n",
              "      <th>id</th>\n",
              "      <th>date</th>\n",
              "      <th>price</th>\n",
              "      <th>bedrooms</th>\n",
              "      <th>bathrooms</th>\n",
              "      <th>sqft_living</th>\n",
              "      <th>sqft_lot</th>\n",
              "      <th>floors</th>\n",
              "      <th>waterfront</th>\n",
              "      <th>view</th>\n",
              "      <th>...</th>\n",
              "      <th>grade</th>\n",
              "      <th>sqft_above</th>\n",
              "      <th>sqft_basement</th>\n",
              "      <th>yr_built</th>\n",
              "      <th>yr_renovated</th>\n",
              "      <th>zipcode</th>\n",
              "      <th>lat</th>\n",
              "      <th>long</th>\n",
              "      <th>sqft_living15</th>\n",
              "      <th>sqft_lot15</th>\n",
              "    </tr>\n",
              "  </thead>\n",
              "  <tbody>\n",
              "    <tr>\n",
              "      <th>0</th>\n",
              "      <td>7129300520</td>\n",
              "      <td>20141013T000000</td>\n",
              "      <td>221900.0</td>\n",
              "      <td>3.0</td>\n",
              "      <td>1.00</td>\n",
              "      <td>1180</td>\n",
              "      <td>5650</td>\n",
              "      <td>1.0</td>\n",
              "      <td>0</td>\n",
              "      <td>0</td>\n",
              "      <td>...</td>\n",
              "      <td>7</td>\n",
              "      <td>1180</td>\n",
              "      <td>0</td>\n",
              "      <td>1955</td>\n",
              "      <td>0</td>\n",
              "      <td>98178</td>\n",
              "      <td>47.5112</td>\n",
              "      <td>-122.257</td>\n",
              "      <td>1340</td>\n",
              "      <td>5650</td>\n",
              "    </tr>\n",
              "    <tr>\n",
              "      <th>1</th>\n",
              "      <td>6414100192</td>\n",
              "      <td>20141209T000000</td>\n",
              "      <td>538000.0</td>\n",
              "      <td>3.0</td>\n",
              "      <td>2.25</td>\n",
              "      <td>2570</td>\n",
              "      <td>7242</td>\n",
              "      <td>2.0</td>\n",
              "      <td>0</td>\n",
              "      <td>0</td>\n",
              "      <td>...</td>\n",
              "      <td>7</td>\n",
              "      <td>2170</td>\n",
              "      <td>400</td>\n",
              "      <td>1951</td>\n",
              "      <td>1991</td>\n",
              "      <td>98125</td>\n",
              "      <td>47.7210</td>\n",
              "      <td>-122.319</td>\n",
              "      <td>1690</td>\n",
              "      <td>7639</td>\n",
              "    </tr>\n",
              "    <tr>\n",
              "      <th>2</th>\n",
              "      <td>5631500400</td>\n",
              "      <td>20150225T000000</td>\n",
              "      <td>180000.0</td>\n",
              "      <td>2.0</td>\n",
              "      <td>1.00</td>\n",
              "      <td>770</td>\n",
              "      <td>10000</td>\n",
              "      <td>1.0</td>\n",
              "      <td>0</td>\n",
              "      <td>0</td>\n",
              "      <td>...</td>\n",
              "      <td>6</td>\n",
              "      <td>770</td>\n",
              "      <td>0</td>\n",
              "      <td>1933</td>\n",
              "      <td>0</td>\n",
              "      <td>98028</td>\n",
              "      <td>47.7379</td>\n",
              "      <td>-122.233</td>\n",
              "      <td>2720</td>\n",
              "      <td>8062</td>\n",
              "    </tr>\n",
              "    <tr>\n",
              "      <th>3</th>\n",
              "      <td>2487200875</td>\n",
              "      <td>20141209T000000</td>\n",
              "      <td>604000.0</td>\n",
              "      <td>4.0</td>\n",
              "      <td>3.00</td>\n",
              "      <td>1960</td>\n",
              "      <td>5000</td>\n",
              "      <td>1.0</td>\n",
              "      <td>0</td>\n",
              "      <td>0</td>\n",
              "      <td>...</td>\n",
              "      <td>7</td>\n",
              "      <td>1050</td>\n",
              "      <td>910</td>\n",
              "      <td>1965</td>\n",
              "      <td>0</td>\n",
              "      <td>98136</td>\n",
              "      <td>47.5208</td>\n",
              "      <td>-122.393</td>\n",
              "      <td>1360</td>\n",
              "      <td>5000</td>\n",
              "    </tr>\n",
              "    <tr>\n",
              "      <th>4</th>\n",
              "      <td>1954400510</td>\n",
              "      <td>20150218T000000</td>\n",
              "      <td>510000.0</td>\n",
              "      <td>3.0</td>\n",
              "      <td>2.00</td>\n",
              "      <td>1680</td>\n",
              "      <td>8080</td>\n",
              "      <td>1.0</td>\n",
              "      <td>0</td>\n",
              "      <td>0</td>\n",
              "      <td>...</td>\n",
              "      <td>8</td>\n",
              "      <td>1680</td>\n",
              "      <td>0</td>\n",
              "      <td>1987</td>\n",
              "      <td>0</td>\n",
              "      <td>98074</td>\n",
              "      <td>47.6168</td>\n",
              "      <td>-122.045</td>\n",
              "      <td>1800</td>\n",
              "      <td>7503</td>\n",
              "    </tr>\n",
              "  </tbody>\n",
              "</table>\n",
              "<p>5 rows × 21 columns</p>\n",
              "</div>\n",
              "      <button class=\"colab-df-convert\" onclick=\"convertToInteractive('df-795463a1-4cf8-48fb-a624-4bd3dc90141a')\"\n",
              "              title=\"Convert this dataframe to an interactive table.\"\n",
              "              style=\"display:none;\">\n",
              "        \n",
              "  <svg xmlns=\"http://www.w3.org/2000/svg\" height=\"24px\"viewBox=\"0 0 24 24\"\n",
              "       width=\"24px\">\n",
              "    <path d=\"M0 0h24v24H0V0z\" fill=\"none\"/>\n",
              "    <path d=\"M18.56 5.44l.94 2.06.94-2.06 2.06-.94-2.06-.94-.94-2.06-.94 2.06-2.06.94zm-11 1L8.5 8.5l.94-2.06 2.06-.94-2.06-.94L8.5 2.5l-.94 2.06-2.06.94zm10 10l.94 2.06.94-2.06 2.06-.94-2.06-.94-.94-2.06-.94 2.06-2.06.94z\"/><path d=\"M17.41 7.96l-1.37-1.37c-.4-.4-.92-.59-1.43-.59-.52 0-1.04.2-1.43.59L10.3 9.45l-7.72 7.72c-.78.78-.78 2.05 0 2.83L4 21.41c.39.39.9.59 1.41.59.51 0 1.02-.2 1.41-.59l7.78-7.78 2.81-2.81c.8-.78.8-2.07 0-2.86zM5.41 20L4 18.59l7.72-7.72 1.47 1.35L5.41 20z\"/>\n",
              "  </svg>\n",
              "      </button>\n",
              "      \n",
              "  <style>\n",
              "    .colab-df-container {\n",
              "      display:flex;\n",
              "      flex-wrap:wrap;\n",
              "      gap: 12px;\n",
              "    }\n",
              "\n",
              "    .colab-df-convert {\n",
              "      background-color: #E8F0FE;\n",
              "      border: none;\n",
              "      border-radius: 50%;\n",
              "      cursor: pointer;\n",
              "      display: none;\n",
              "      fill: #1967D2;\n",
              "      height: 32px;\n",
              "      padding: 0 0 0 0;\n",
              "      width: 32px;\n",
              "    }\n",
              "\n",
              "    .colab-df-convert:hover {\n",
              "      background-color: #E2EBFA;\n",
              "      box-shadow: 0px 1px 2px rgba(60, 64, 67, 0.3), 0px 1px 3px 1px rgba(60, 64, 67, 0.15);\n",
              "      fill: #174EA6;\n",
              "    }\n",
              "\n",
              "    [theme=dark] .colab-df-convert {\n",
              "      background-color: #3B4455;\n",
              "      fill: #D2E3FC;\n",
              "    }\n",
              "\n",
              "    [theme=dark] .colab-df-convert:hover {\n",
              "      background-color: #434B5C;\n",
              "      box-shadow: 0px 1px 3px 1px rgba(0, 0, 0, 0.15);\n",
              "      filter: drop-shadow(0px 1px 2px rgba(0, 0, 0, 0.3));\n",
              "      fill: #FFFFFF;\n",
              "    }\n",
              "  </style>\n",
              "\n",
              "      <script>\n",
              "        const buttonEl =\n",
              "          document.querySelector('#df-795463a1-4cf8-48fb-a624-4bd3dc90141a button.colab-df-convert');\n",
              "        buttonEl.style.display =\n",
              "          google.colab.kernel.accessAllowed ? 'block' : 'none';\n",
              "\n",
              "        async function convertToInteractive(key) {\n",
              "          const element = document.querySelector('#df-795463a1-4cf8-48fb-a624-4bd3dc90141a');\n",
              "          const dataTable =\n",
              "            await google.colab.kernel.invokeFunction('convertToInteractive',\n",
              "                                                     [key], {});\n",
              "          if (!dataTable) return;\n",
              "\n",
              "          const docLinkHtml = 'Like what you see? Visit the ' +\n",
              "            '<a target=\"_blank\" href=https://colab.research.google.com/notebooks/data_table.ipynb>data table notebook</a>'\n",
              "            + ' to learn more about interactive tables.';\n",
              "          element.innerHTML = '';\n",
              "          dataTable['output_type'] = 'display_data';\n",
              "          await google.colab.output.renderOutput(dataTable, element);\n",
              "          const docLink = document.createElement('div');\n",
              "          docLink.innerHTML = docLinkHtml;\n",
              "          element.appendChild(docLink);\n",
              "        }\n",
              "      </script>\n",
              "    </div>\n",
              "  </div>\n",
              "  "
            ]
          },
          "metadata": {},
          "execution_count": 55
        }
      ],
      "source": [
        "df = pd.read_csv('/content/drive/MyDrive/Colab Notebooks/arquivos/kc_house_data.csv')\n",
        "df.head(5)"
      ]
    },
    {
      "cell_type": "code",
      "source": [
        "df['date'] = [f'{i[6:8]}'+'/'+f'{i[4:6]}'+'/'+f'{i[0:4]}' for i in df['date']]\n",
        "df['date'] = [datetime.strptime(i,'%d/%m/%Y') for i in df['date']]\n",
        "df['Month']=[i.month for i in df['date']]\n",
        "df['Year']=[i.year for i in df['date']]\n",
        "df.head()"
      ],
      "metadata": {
        "id": "3rpyRnGScM2y",
        "colab": {
          "base_uri": "https://localhost:8080/",
          "height": 386
        },
        "outputId": "7810cfb6-5ea3-4485-b8fe-f8fd85c89b8f"
      },
      "id": "3rpyRnGScM2y",
      "execution_count": 56,
      "outputs": [
        {
          "output_type": "execute_result",
          "data": {
            "text/plain": [
              "           id       date     price  bedrooms  bathrooms  sqft_living  \\\n",
              "0  7129300520 2014-10-13  221900.0       3.0       1.00         1180   \n",
              "1  6414100192 2014-12-09  538000.0       3.0       2.25         2570   \n",
              "2  5631500400 2015-02-25  180000.0       2.0       1.00          770   \n",
              "3  2487200875 2014-12-09  604000.0       4.0       3.00         1960   \n",
              "4  1954400510 2015-02-18  510000.0       3.0       2.00         1680   \n",
              "\n",
              "   sqft_lot  floors  waterfront  view  ...  sqft_basement  yr_built  \\\n",
              "0      5650     1.0           0     0  ...              0      1955   \n",
              "1      7242     2.0           0     0  ...            400      1951   \n",
              "2     10000     1.0           0     0  ...              0      1933   \n",
              "3      5000     1.0           0     0  ...            910      1965   \n",
              "4      8080     1.0           0     0  ...              0      1987   \n",
              "\n",
              "   yr_renovated  zipcode      lat     long  sqft_living15  sqft_lot15  Month  \\\n",
              "0             0    98178  47.5112 -122.257           1340        5650     10   \n",
              "1          1991    98125  47.7210 -122.319           1690        7639     12   \n",
              "2             0    98028  47.7379 -122.233           2720        8062      2   \n",
              "3             0    98136  47.5208 -122.393           1360        5000     12   \n",
              "4             0    98074  47.6168 -122.045           1800        7503      2   \n",
              "\n",
              "   Year  \n",
              "0  2014  \n",
              "1  2014  \n",
              "2  2015  \n",
              "3  2014  \n",
              "4  2015  \n",
              "\n",
              "[5 rows x 23 columns]"
            ],
            "text/html": [
              "\n",
              "  <div id=\"df-523e30e4-547d-4981-a3d1-44df36668bab\">\n",
              "    <div class=\"colab-df-container\">\n",
              "      <div>\n",
              "<style scoped>\n",
              "    .dataframe tbody tr th:only-of-type {\n",
              "        vertical-align: middle;\n",
              "    }\n",
              "\n",
              "    .dataframe tbody tr th {\n",
              "        vertical-align: top;\n",
              "    }\n",
              "\n",
              "    .dataframe thead th {\n",
              "        text-align: right;\n",
              "    }\n",
              "</style>\n",
              "<table border=\"1\" class=\"dataframe\">\n",
              "  <thead>\n",
              "    <tr style=\"text-align: right;\">\n",
              "      <th></th>\n",
              "      <th>id</th>\n",
              "      <th>date</th>\n",
              "      <th>price</th>\n",
              "      <th>bedrooms</th>\n",
              "      <th>bathrooms</th>\n",
              "      <th>sqft_living</th>\n",
              "      <th>sqft_lot</th>\n",
              "      <th>floors</th>\n",
              "      <th>waterfront</th>\n",
              "      <th>view</th>\n",
              "      <th>...</th>\n",
              "      <th>sqft_basement</th>\n",
              "      <th>yr_built</th>\n",
              "      <th>yr_renovated</th>\n",
              "      <th>zipcode</th>\n",
              "      <th>lat</th>\n",
              "      <th>long</th>\n",
              "      <th>sqft_living15</th>\n",
              "      <th>sqft_lot15</th>\n",
              "      <th>Month</th>\n",
              "      <th>Year</th>\n",
              "    </tr>\n",
              "  </thead>\n",
              "  <tbody>\n",
              "    <tr>\n",
              "      <th>0</th>\n",
              "      <td>7129300520</td>\n",
              "      <td>2014-10-13</td>\n",
              "      <td>221900.0</td>\n",
              "      <td>3.0</td>\n",
              "      <td>1.00</td>\n",
              "      <td>1180</td>\n",
              "      <td>5650</td>\n",
              "      <td>1.0</td>\n",
              "      <td>0</td>\n",
              "      <td>0</td>\n",
              "      <td>...</td>\n",
              "      <td>0</td>\n",
              "      <td>1955</td>\n",
              "      <td>0</td>\n",
              "      <td>98178</td>\n",
              "      <td>47.5112</td>\n",
              "      <td>-122.257</td>\n",
              "      <td>1340</td>\n",
              "      <td>5650</td>\n",
              "      <td>10</td>\n",
              "      <td>2014</td>\n",
              "    </tr>\n",
              "    <tr>\n",
              "      <th>1</th>\n",
              "      <td>6414100192</td>\n",
              "      <td>2014-12-09</td>\n",
              "      <td>538000.0</td>\n",
              "      <td>3.0</td>\n",
              "      <td>2.25</td>\n",
              "      <td>2570</td>\n",
              "      <td>7242</td>\n",
              "      <td>2.0</td>\n",
              "      <td>0</td>\n",
              "      <td>0</td>\n",
              "      <td>...</td>\n",
              "      <td>400</td>\n",
              "      <td>1951</td>\n",
              "      <td>1991</td>\n",
              "      <td>98125</td>\n",
              "      <td>47.7210</td>\n",
              "      <td>-122.319</td>\n",
              "      <td>1690</td>\n",
              "      <td>7639</td>\n",
              "      <td>12</td>\n",
              "      <td>2014</td>\n",
              "    </tr>\n",
              "    <tr>\n",
              "      <th>2</th>\n",
              "      <td>5631500400</td>\n",
              "      <td>2015-02-25</td>\n",
              "      <td>180000.0</td>\n",
              "      <td>2.0</td>\n",
              "      <td>1.00</td>\n",
              "      <td>770</td>\n",
              "      <td>10000</td>\n",
              "      <td>1.0</td>\n",
              "      <td>0</td>\n",
              "      <td>0</td>\n",
              "      <td>...</td>\n",
              "      <td>0</td>\n",
              "      <td>1933</td>\n",
              "      <td>0</td>\n",
              "      <td>98028</td>\n",
              "      <td>47.7379</td>\n",
              "      <td>-122.233</td>\n",
              "      <td>2720</td>\n",
              "      <td>8062</td>\n",
              "      <td>2</td>\n",
              "      <td>2015</td>\n",
              "    </tr>\n",
              "    <tr>\n",
              "      <th>3</th>\n",
              "      <td>2487200875</td>\n",
              "      <td>2014-12-09</td>\n",
              "      <td>604000.0</td>\n",
              "      <td>4.0</td>\n",
              "      <td>3.00</td>\n",
              "      <td>1960</td>\n",
              "      <td>5000</td>\n",
              "      <td>1.0</td>\n",
              "      <td>0</td>\n",
              "      <td>0</td>\n",
              "      <td>...</td>\n",
              "      <td>910</td>\n",
              "      <td>1965</td>\n",
              "      <td>0</td>\n",
              "      <td>98136</td>\n",
              "      <td>47.5208</td>\n",
              "      <td>-122.393</td>\n",
              "      <td>1360</td>\n",
              "      <td>5000</td>\n",
              "      <td>12</td>\n",
              "      <td>2014</td>\n",
              "    </tr>\n",
              "    <tr>\n",
              "      <th>4</th>\n",
              "      <td>1954400510</td>\n",
              "      <td>2015-02-18</td>\n",
              "      <td>510000.0</td>\n",
              "      <td>3.0</td>\n",
              "      <td>2.00</td>\n",
              "      <td>1680</td>\n",
              "      <td>8080</td>\n",
              "      <td>1.0</td>\n",
              "      <td>0</td>\n",
              "      <td>0</td>\n",
              "      <td>...</td>\n",
              "      <td>0</td>\n",
              "      <td>1987</td>\n",
              "      <td>0</td>\n",
              "      <td>98074</td>\n",
              "      <td>47.6168</td>\n",
              "      <td>-122.045</td>\n",
              "      <td>1800</td>\n",
              "      <td>7503</td>\n",
              "      <td>2</td>\n",
              "      <td>2015</td>\n",
              "    </tr>\n",
              "  </tbody>\n",
              "</table>\n",
              "<p>5 rows × 23 columns</p>\n",
              "</div>\n",
              "      <button class=\"colab-df-convert\" onclick=\"convertToInteractive('df-523e30e4-547d-4981-a3d1-44df36668bab')\"\n",
              "              title=\"Convert this dataframe to an interactive table.\"\n",
              "              style=\"display:none;\">\n",
              "        \n",
              "  <svg xmlns=\"http://www.w3.org/2000/svg\" height=\"24px\"viewBox=\"0 0 24 24\"\n",
              "       width=\"24px\">\n",
              "    <path d=\"M0 0h24v24H0V0z\" fill=\"none\"/>\n",
              "    <path d=\"M18.56 5.44l.94 2.06.94-2.06 2.06-.94-2.06-.94-.94-2.06-.94 2.06-2.06.94zm-11 1L8.5 8.5l.94-2.06 2.06-.94-2.06-.94L8.5 2.5l-.94 2.06-2.06.94zm10 10l.94 2.06.94-2.06 2.06-.94-2.06-.94-.94-2.06-.94 2.06-2.06.94z\"/><path d=\"M17.41 7.96l-1.37-1.37c-.4-.4-.92-.59-1.43-.59-.52 0-1.04.2-1.43.59L10.3 9.45l-7.72 7.72c-.78.78-.78 2.05 0 2.83L4 21.41c.39.39.9.59 1.41.59.51 0 1.02-.2 1.41-.59l7.78-7.78 2.81-2.81c.8-.78.8-2.07 0-2.86zM5.41 20L4 18.59l7.72-7.72 1.47 1.35L5.41 20z\"/>\n",
              "  </svg>\n",
              "      </button>\n",
              "      \n",
              "  <style>\n",
              "    .colab-df-container {\n",
              "      display:flex;\n",
              "      flex-wrap:wrap;\n",
              "      gap: 12px;\n",
              "    }\n",
              "\n",
              "    .colab-df-convert {\n",
              "      background-color: #E8F0FE;\n",
              "      border: none;\n",
              "      border-radius: 50%;\n",
              "      cursor: pointer;\n",
              "      display: none;\n",
              "      fill: #1967D2;\n",
              "      height: 32px;\n",
              "      padding: 0 0 0 0;\n",
              "      width: 32px;\n",
              "    }\n",
              "\n",
              "    .colab-df-convert:hover {\n",
              "      background-color: #E2EBFA;\n",
              "      box-shadow: 0px 1px 2px rgba(60, 64, 67, 0.3), 0px 1px 3px 1px rgba(60, 64, 67, 0.15);\n",
              "      fill: #174EA6;\n",
              "    }\n",
              "\n",
              "    [theme=dark] .colab-df-convert {\n",
              "      background-color: #3B4455;\n",
              "      fill: #D2E3FC;\n",
              "    }\n",
              "\n",
              "    [theme=dark] .colab-df-convert:hover {\n",
              "      background-color: #434B5C;\n",
              "      box-shadow: 0px 1px 3px 1px rgba(0, 0, 0, 0.15);\n",
              "      filter: drop-shadow(0px 1px 2px rgba(0, 0, 0, 0.3));\n",
              "      fill: #FFFFFF;\n",
              "    }\n",
              "  </style>\n",
              "\n",
              "      <script>\n",
              "        const buttonEl =\n",
              "          document.querySelector('#df-523e30e4-547d-4981-a3d1-44df36668bab button.colab-df-convert');\n",
              "        buttonEl.style.display =\n",
              "          google.colab.kernel.accessAllowed ? 'block' : 'none';\n",
              "\n",
              "        async function convertToInteractive(key) {\n",
              "          const element = document.querySelector('#df-523e30e4-547d-4981-a3d1-44df36668bab');\n",
              "          const dataTable =\n",
              "            await google.colab.kernel.invokeFunction('convertToInteractive',\n",
              "                                                     [key], {});\n",
              "          if (!dataTable) return;\n",
              "\n",
              "          const docLinkHtml = 'Like what you see? Visit the ' +\n",
              "            '<a target=\"_blank\" href=https://colab.research.google.com/notebooks/data_table.ipynb>data table notebook</a>'\n",
              "            + ' to learn more about interactive tables.';\n",
              "          element.innerHTML = '';\n",
              "          dataTable['output_type'] = 'display_data';\n",
              "          await google.colab.output.renderOutput(dataTable, element);\n",
              "          const docLink = document.createElement('div');\n",
              "          docLink.innerHTML = docLinkHtml;\n",
              "          element.appendChild(docLink);\n",
              "        }\n",
              "      </script>\n",
              "    </div>\n",
              "  </div>\n",
              "  "
            ]
          },
          "metadata": {},
          "execution_count": 56
        }
      ]
    },
    {
      "cell_type": "code",
      "execution_count": 57,
      "id": "33b0b0d0",
      "metadata": {
        "scrolled": true,
        "id": "33b0b0d0",
        "colab": {
          "base_uri": "https://localhost:8080/"
        },
        "outputId": "433f823f-370b-485a-cd01-ed15bcd23dfa"
      },
      "outputs": [
        {
          "output_type": "stream",
          "name": "stdout",
          "text": [
            "id               0\n",
            "date             0\n",
            "price            0\n",
            "bedrooms         4\n",
            "bathrooms        0\n",
            "sqft_living      0\n",
            "sqft_lot         0\n",
            "floors           1\n",
            "waterfront       0\n",
            "view             0\n",
            "condition        0\n",
            "grade            0\n",
            "sqft_above       0\n",
            "sqft_basement    0\n",
            "yr_built         0\n",
            "yr_renovated     0\n",
            "zipcode          0\n",
            "lat              0\n",
            "long             0\n",
            "sqft_living15    0\n",
            "sqft_lot15       0\n",
            "Month            0\n",
            "Year             0\n",
            "dtype: int64\n"
          ]
        }
      ],
      "source": [
        "#colunas excluidas manualmente é importante que tenham acompanhamento de um especialista no tema dos dados\n",
        "print(df.isnull().sum())\n",
        "#como existe poucos valores faltantes, irei retira-los\n",
        "df.dropna(how='any', inplace=True)\n",
        "df.reset_index(drop=True, inplace=True)"
      ]
    },
    {
      "cell_type": "markdown",
      "id": "10eb9870",
      "metadata": {
        "id": "10eb9870"
      },
      "source": [
        "Para algumas colunas podemos usar o unique para visualizar se tem algum valor inconsistente, como por exemplo bathrooms=2.25\n",
        "oque não faz sentido, necessintando converter para inteiro\n"
      ]
    },
    {
      "cell_type": "code",
      "execution_count": 58,
      "id": "08086690",
      "metadata": {
        "id": "08086690",
        "colab": {
          "base_uri": "https://localhost:8080/"
        },
        "outputId": "f6bea53d-f161-404f-dd0e-ef61f189c6cd"
      },
      "outputs": [
        {
          "output_type": "stream",
          "name": "stdout",
          "text": [
            "bedrooms= [ 3.  2.  4.  5.  1.  6.  7.  0.  8.  9. 11. 10. 33.]\n",
            "bathrooms= [1.   2.25 3.   2.   4.5  1.5  2.5  1.75 2.75 3.25 4.   3.5  0.75 4.75\n",
            " 5.   4.25 3.75 0.   1.25 5.25 6.   0.5  5.5  6.75 5.75 8.   7.5  7.75\n",
            " 6.25 6.5 ]\n",
            "floors= [1.  2.  1.5 3.  2.5 3.5]\n",
            "waterfront= [0 1]\n",
            "view= [0 3 4 2 1]\n",
            "grade= [ 7  6  8 11  9  5 10 12  4  3 13  1]\n",
            "Year= [2014 2015]\n",
            "Month= [10 12  2  5  6  1  4  3  7  8 11  9]\n"
          ]
        }
      ],
      "source": [
        "colunas=['bedrooms', 'bathrooms', 'floors', 'waterfront', 'view', 'grade', 'Year', 'Month']\n",
        "for i in colunas:\n",
        "    print(f'{i}=',df[i].unique())"
      ]
    },
    {
      "cell_type": "code",
      "execution_count": 59,
      "id": "1e1bbad0",
      "metadata": {
        "id": "1e1bbad0",
        "colab": {
          "base_uri": "https://localhost:8080/"
        },
        "outputId": "bac34a8b-4066-4614-9324-cdebccef86ff"
      },
      "outputs": [
        {
          "output_type": "stream",
          "name": "stdout",
          "text": [
            "bathrooms= [1 2 3 4 0 5 6 8 7]\n",
            "floors= [1 2 3]\n"
          ]
        }
      ],
      "source": [
        "df['bathrooms']=df['bathrooms'].astype('int')\n",
        "df['floors']=df['floors'].astype('int')\n",
        "colunas=['bathrooms', 'floors']\n",
        "for i in colunas:\n",
        "    print(f'{i}=',df[i].unique())"
      ]
    },
    {
      "cell_type": "code",
      "execution_count": 60,
      "id": "e17e098f",
      "metadata": {
        "id": "e17e098f",
        "colab": {
          "base_uri": "https://localhost:8080/",
          "height": 386
        },
        "outputId": "dad956db-6424-4fa9-d234-dd3f26644fe5"
      },
      "outputs": [
        {
          "output_type": "execute_result",
          "data": {
            "text/plain": [
              "           id       date     price  bedrooms  bathrooms  sqft_living  \\\n",
              "0  7129300520 2014-10-13  221900.0       3.0          1         1180   \n",
              "1  6414100192 2014-12-09  538000.0       3.0          2         2570   \n",
              "2  5631500400 2015-02-25  180000.0       2.0          1          770   \n",
              "3  2487200875 2014-12-09  604000.0       4.0          3         1960   \n",
              "4  1954400510 2015-02-18  510000.0       3.0          2         1680   \n",
              "\n",
              "   sqft_lot  floors  waterfront  view  ...  sqft_basement  yr_built  \\\n",
              "0      5650       1           0     0  ...              0      1955   \n",
              "1      7242       2           0     0  ...            400      1951   \n",
              "2     10000       1           0     0  ...              0      1933   \n",
              "3      5000       1           0     0  ...            910      1965   \n",
              "4      8080       1           0     0  ...              0      1987   \n",
              "\n",
              "   yr_renovated  zipcode      lat     long  sqft_living15  sqft_lot15  Month  \\\n",
              "0             0    98178  47.5112 -122.257           1340        5650     10   \n",
              "1          1991    98125  47.7210 -122.319           1690        7639     12   \n",
              "2             0    98028  47.7379 -122.233           2720        8062      2   \n",
              "3             0    98136  47.5208 -122.393           1360        5000     12   \n",
              "4             0    98074  47.6168 -122.045           1800        7503      2   \n",
              "\n",
              "   Year  \n",
              "0  2014  \n",
              "1  2014  \n",
              "2  2015  \n",
              "3  2014  \n",
              "4  2015  \n",
              "\n",
              "[5 rows x 23 columns]"
            ],
            "text/html": [
              "\n",
              "  <div id=\"df-ac9f17f8-ceb8-46e9-afd7-7dda530168d5\">\n",
              "    <div class=\"colab-df-container\">\n",
              "      <div>\n",
              "<style scoped>\n",
              "    .dataframe tbody tr th:only-of-type {\n",
              "        vertical-align: middle;\n",
              "    }\n",
              "\n",
              "    .dataframe tbody tr th {\n",
              "        vertical-align: top;\n",
              "    }\n",
              "\n",
              "    .dataframe thead th {\n",
              "        text-align: right;\n",
              "    }\n",
              "</style>\n",
              "<table border=\"1\" class=\"dataframe\">\n",
              "  <thead>\n",
              "    <tr style=\"text-align: right;\">\n",
              "      <th></th>\n",
              "      <th>id</th>\n",
              "      <th>date</th>\n",
              "      <th>price</th>\n",
              "      <th>bedrooms</th>\n",
              "      <th>bathrooms</th>\n",
              "      <th>sqft_living</th>\n",
              "      <th>sqft_lot</th>\n",
              "      <th>floors</th>\n",
              "      <th>waterfront</th>\n",
              "      <th>view</th>\n",
              "      <th>...</th>\n",
              "      <th>sqft_basement</th>\n",
              "      <th>yr_built</th>\n",
              "      <th>yr_renovated</th>\n",
              "      <th>zipcode</th>\n",
              "      <th>lat</th>\n",
              "      <th>long</th>\n",
              "      <th>sqft_living15</th>\n",
              "      <th>sqft_lot15</th>\n",
              "      <th>Month</th>\n",
              "      <th>Year</th>\n",
              "    </tr>\n",
              "  </thead>\n",
              "  <tbody>\n",
              "    <tr>\n",
              "      <th>0</th>\n",
              "      <td>7129300520</td>\n",
              "      <td>2014-10-13</td>\n",
              "      <td>221900.0</td>\n",
              "      <td>3.0</td>\n",
              "      <td>1</td>\n",
              "      <td>1180</td>\n",
              "      <td>5650</td>\n",
              "      <td>1</td>\n",
              "      <td>0</td>\n",
              "      <td>0</td>\n",
              "      <td>...</td>\n",
              "      <td>0</td>\n",
              "      <td>1955</td>\n",
              "      <td>0</td>\n",
              "      <td>98178</td>\n",
              "      <td>47.5112</td>\n",
              "      <td>-122.257</td>\n",
              "      <td>1340</td>\n",
              "      <td>5650</td>\n",
              "      <td>10</td>\n",
              "      <td>2014</td>\n",
              "    </tr>\n",
              "    <tr>\n",
              "      <th>1</th>\n",
              "      <td>6414100192</td>\n",
              "      <td>2014-12-09</td>\n",
              "      <td>538000.0</td>\n",
              "      <td>3.0</td>\n",
              "      <td>2</td>\n",
              "      <td>2570</td>\n",
              "      <td>7242</td>\n",
              "      <td>2</td>\n",
              "      <td>0</td>\n",
              "      <td>0</td>\n",
              "      <td>...</td>\n",
              "      <td>400</td>\n",
              "      <td>1951</td>\n",
              "      <td>1991</td>\n",
              "      <td>98125</td>\n",
              "      <td>47.7210</td>\n",
              "      <td>-122.319</td>\n",
              "      <td>1690</td>\n",
              "      <td>7639</td>\n",
              "      <td>12</td>\n",
              "      <td>2014</td>\n",
              "    </tr>\n",
              "    <tr>\n",
              "      <th>2</th>\n",
              "      <td>5631500400</td>\n",
              "      <td>2015-02-25</td>\n",
              "      <td>180000.0</td>\n",
              "      <td>2.0</td>\n",
              "      <td>1</td>\n",
              "      <td>770</td>\n",
              "      <td>10000</td>\n",
              "      <td>1</td>\n",
              "      <td>0</td>\n",
              "      <td>0</td>\n",
              "      <td>...</td>\n",
              "      <td>0</td>\n",
              "      <td>1933</td>\n",
              "      <td>0</td>\n",
              "      <td>98028</td>\n",
              "      <td>47.7379</td>\n",
              "      <td>-122.233</td>\n",
              "      <td>2720</td>\n",
              "      <td>8062</td>\n",
              "      <td>2</td>\n",
              "      <td>2015</td>\n",
              "    </tr>\n",
              "    <tr>\n",
              "      <th>3</th>\n",
              "      <td>2487200875</td>\n",
              "      <td>2014-12-09</td>\n",
              "      <td>604000.0</td>\n",
              "      <td>4.0</td>\n",
              "      <td>3</td>\n",
              "      <td>1960</td>\n",
              "      <td>5000</td>\n",
              "      <td>1</td>\n",
              "      <td>0</td>\n",
              "      <td>0</td>\n",
              "      <td>...</td>\n",
              "      <td>910</td>\n",
              "      <td>1965</td>\n",
              "      <td>0</td>\n",
              "      <td>98136</td>\n",
              "      <td>47.5208</td>\n",
              "      <td>-122.393</td>\n",
              "      <td>1360</td>\n",
              "      <td>5000</td>\n",
              "      <td>12</td>\n",
              "      <td>2014</td>\n",
              "    </tr>\n",
              "    <tr>\n",
              "      <th>4</th>\n",
              "      <td>1954400510</td>\n",
              "      <td>2015-02-18</td>\n",
              "      <td>510000.0</td>\n",
              "      <td>3.0</td>\n",
              "      <td>2</td>\n",
              "      <td>1680</td>\n",
              "      <td>8080</td>\n",
              "      <td>1</td>\n",
              "      <td>0</td>\n",
              "      <td>0</td>\n",
              "      <td>...</td>\n",
              "      <td>0</td>\n",
              "      <td>1987</td>\n",
              "      <td>0</td>\n",
              "      <td>98074</td>\n",
              "      <td>47.6168</td>\n",
              "      <td>-122.045</td>\n",
              "      <td>1800</td>\n",
              "      <td>7503</td>\n",
              "      <td>2</td>\n",
              "      <td>2015</td>\n",
              "    </tr>\n",
              "  </tbody>\n",
              "</table>\n",
              "<p>5 rows × 23 columns</p>\n",
              "</div>\n",
              "      <button class=\"colab-df-convert\" onclick=\"convertToInteractive('df-ac9f17f8-ceb8-46e9-afd7-7dda530168d5')\"\n",
              "              title=\"Convert this dataframe to an interactive table.\"\n",
              "              style=\"display:none;\">\n",
              "        \n",
              "  <svg xmlns=\"http://www.w3.org/2000/svg\" height=\"24px\"viewBox=\"0 0 24 24\"\n",
              "       width=\"24px\">\n",
              "    <path d=\"M0 0h24v24H0V0z\" fill=\"none\"/>\n",
              "    <path d=\"M18.56 5.44l.94 2.06.94-2.06 2.06-.94-2.06-.94-.94-2.06-.94 2.06-2.06.94zm-11 1L8.5 8.5l.94-2.06 2.06-.94-2.06-.94L8.5 2.5l-.94 2.06-2.06.94zm10 10l.94 2.06.94-2.06 2.06-.94-2.06-.94-.94-2.06-.94 2.06-2.06.94z\"/><path d=\"M17.41 7.96l-1.37-1.37c-.4-.4-.92-.59-1.43-.59-.52 0-1.04.2-1.43.59L10.3 9.45l-7.72 7.72c-.78.78-.78 2.05 0 2.83L4 21.41c.39.39.9.59 1.41.59.51 0 1.02-.2 1.41-.59l7.78-7.78 2.81-2.81c.8-.78.8-2.07 0-2.86zM5.41 20L4 18.59l7.72-7.72 1.47 1.35L5.41 20z\"/>\n",
              "  </svg>\n",
              "      </button>\n",
              "      \n",
              "  <style>\n",
              "    .colab-df-container {\n",
              "      display:flex;\n",
              "      flex-wrap:wrap;\n",
              "      gap: 12px;\n",
              "    }\n",
              "\n",
              "    .colab-df-convert {\n",
              "      background-color: #E8F0FE;\n",
              "      border: none;\n",
              "      border-radius: 50%;\n",
              "      cursor: pointer;\n",
              "      display: none;\n",
              "      fill: #1967D2;\n",
              "      height: 32px;\n",
              "      padding: 0 0 0 0;\n",
              "      width: 32px;\n",
              "    }\n",
              "\n",
              "    .colab-df-convert:hover {\n",
              "      background-color: #E2EBFA;\n",
              "      box-shadow: 0px 1px 2px rgba(60, 64, 67, 0.3), 0px 1px 3px 1px rgba(60, 64, 67, 0.15);\n",
              "      fill: #174EA6;\n",
              "    }\n",
              "\n",
              "    [theme=dark] .colab-df-convert {\n",
              "      background-color: #3B4455;\n",
              "      fill: #D2E3FC;\n",
              "    }\n",
              "\n",
              "    [theme=dark] .colab-df-convert:hover {\n",
              "      background-color: #434B5C;\n",
              "      box-shadow: 0px 1px 3px 1px rgba(0, 0, 0, 0.15);\n",
              "      filter: drop-shadow(0px 1px 2px rgba(0, 0, 0, 0.3));\n",
              "      fill: #FFFFFF;\n",
              "    }\n",
              "  </style>\n",
              "\n",
              "      <script>\n",
              "        const buttonEl =\n",
              "          document.querySelector('#df-ac9f17f8-ceb8-46e9-afd7-7dda530168d5 button.colab-df-convert');\n",
              "        buttonEl.style.display =\n",
              "          google.colab.kernel.accessAllowed ? 'block' : 'none';\n",
              "\n",
              "        async function convertToInteractive(key) {\n",
              "          const element = document.querySelector('#df-ac9f17f8-ceb8-46e9-afd7-7dda530168d5');\n",
              "          const dataTable =\n",
              "            await google.colab.kernel.invokeFunction('convertToInteractive',\n",
              "                                                     [key], {});\n",
              "          if (!dataTable) return;\n",
              "\n",
              "          const docLinkHtml = 'Like what you see? Visit the ' +\n",
              "            '<a target=\"_blank\" href=https://colab.research.google.com/notebooks/data_table.ipynb>data table notebook</a>'\n",
              "            + ' to learn more about interactive tables.';\n",
              "          element.innerHTML = '';\n",
              "          dataTable['output_type'] = 'display_data';\n",
              "          await google.colab.output.renderOutput(dataTable, element);\n",
              "          const docLink = document.createElement('div');\n",
              "          docLink.innerHTML = docLinkHtml;\n",
              "          element.appendChild(docLink);\n",
              "        }\n",
              "      </script>\n",
              "    </div>\n",
              "  </div>\n",
              "  "
            ]
          },
          "metadata": {},
          "execution_count": 60
        }
      ],
      "source": [
        "df.head()"
      ]
    },
    {
      "cell_type": "markdown",
      "id": "3dd4b889",
      "metadata": {
        "id": "3dd4b889"
      },
      "source": [
        "# Funções auxiliares "
      ]
    },
    {
      "cell_type": "code",
      "execution_count": 61,
      "id": "13f0cf6d",
      "metadata": {
        "id": "13f0cf6d"
      },
      "outputs": [],
      "source": [
        "def prob(data, acu):\n",
        "    aux=np.zeros(data.shape[0])\n",
        "    \n",
        "    #marcando no data frame valores que estao no vetor de acumulados\n",
        "    data_aux=data.isin({'price':acu})\n",
        "    \n",
        "    \n",
        "    #pegando os indices dos valores que estao no vetor acumulados\n",
        "    indices=data[data_aux.price].index\n",
        "\n",
        "    for i in indices:\n",
        "        aux[i]=1\n",
        "    return aux"
      ]
    },
    {
      "cell_type": "code",
      "execution_count": 62,
      "id": "45e0050e",
      "metadata": {
        "id": "45e0050e"
      },
      "outputs": [],
      "source": [
        "def acumulativo(serie, porcentagem):\n",
        "    #essa função recebe uma serie e porcentagem, e retornará um vetor tal que a soma de suas\n",
        "    #frequencias sejam <=porcentagem, alem da soma das probabilidades desses valores e o maior a aparecer\n",
        "    #obs: valores em vec não se repetem\n",
        "    vec=[]\n",
        "    cont=serie.value_counts(normalize=True)\n",
        "    values=pd.DataFrame(cont.index)\n",
        "    #ordenando os valores, pois se nao pegar na ordem de menor para maior valor de price, acabará pulando valores\n",
        "    #na contagem do acumulado\n",
        "    order=pd.DataFrame(values.sort_values(by=0, ascending=True).reset_index(drop=True))\n",
        "    acu=0\n",
        "    for i in order.values:\n",
        "        value=i[0]\n",
        "        acu+=cont.loc[value]\n",
        "        if(acu>porcentagem):\n",
        "            break\n",
        "        else:\n",
        "            vec.append(value)\n",
        "    return np.resize(vec,(serie.shape[0])), acu, max(vec)[0]\n",
        "            \n",
        "          "
      ]
    },
    {
      "cell_type": "markdown",
      "source": [
        "# **Visuzalização Geral dos dados**"
      ],
      "metadata": {
        "id": "3asPDDlWUl-P"
      },
      "id": "3asPDDlWUl-P"
    },
    {
      "cell_type": "markdown",
      "id": "7be5b320",
      "metadata": {
        "id": "7be5b320"
      },
      "source": [
        "Vamos verificar a distribuição do preço, não apenas para a regressão, mas tambem para os tratamentos dos seu valores como outliers"
      ]
    },
    {
      "cell_type": "code",
      "execution_count": 63,
      "id": "adcea865",
      "metadata": {
        "id": "adcea865",
        "colab": {
          "base_uri": "https://localhost:8080/",
          "height": 603
        },
        "outputId": "1a74cf3e-3fed-4e88-e4d0-eec40e15f2ab"
      },
      "outputs": [
        {
          "output_type": "display_data",
          "data": {
            "text/plain": [
              "<Figure size 720x720 with 3 Axes>"
            ],
            "image/png": "[encoded data removed]"
          },
          "metadata": {
            "needs_background": "light"
          }
        }
      ],
      "source": [
        "#fazendo uma copia com apenas a coluna que interessa\n",
        "df_aux=df['price'].copy()\n",
        "df_aux=pd.DataFrame(df_aux)\n",
        "\n",
        "#fator de probabilidade\n",
        "probi=0.9\n",
        "\n",
        "#funções auxiliares\n",
        "aux, acu, maxi=acumulativo(df_aux, probi)\n",
        "df_aux.insert(1,'bool',prob(df_aux, aux))\n",
        "\n",
        "\n",
        "fig=plt.figure(figsize=(10,10))\n",
        "\n",
        "\n",
        "#histograma\n",
        "ax=fig.add_subplot(2,2,1)\n",
        "sns.histplot(data=df_aux[[\"price\",\"bool\"]],x=\"price\",hue=\"bool\",multiple=\"stack\", legend=False)\n",
        "plt.ylabel([], fontsize=0)\n",
        "plt.ylabel([], fontsize=0)\n",
        "plt.tick_params(axis='y', labelsize=0, length=0)\n",
        "plt.axvline(x=maxi, ymin=0, ymax=700, color='red')\n",
        "plt.text(maxi+100000, 700, f\"\"\"P(x<={maxi})={probi}\"\"\")\n",
        "\n",
        "\n",
        "#boxplot\n",
        "ax=fig.add_subplot(2,2,2)\n",
        "sns.boxplot(y=\"price\",data=df,color='blue')\n",
        "plt.xlabel([], fontsize=0)\n",
        "plt.tick_params(axis='x', labelsize=0, length=0)\n",
        "\n",
        "\n",
        "#dipersão\n",
        "ax=fig.add_subplot(2,1,2)\n",
        "sns.scatterplot(data=df_aux, x='price', y='price', hue='bool', legend=False)\n",
        "plt.ylabel('price')\n",
        "plt.tick_params(axis='x', labelsize=0, length=0)\n",
        "maximo=df['price'].max()\n",
        "plt.text(maximo+200000, maximo-200000, f\"Preço máximo={maximo}\", weight=\"bold\")\n",
        "plt.xlabel([], fontsize=0)\n",
        "plt.ylabel([], fontsize=0)\n",
        "plt.tick_params(axis='y', labelsize=0, length=0)\n",
        "plt.show()"
      ]
    },
    {
      "cell_type": "code",
      "execution_count": 64,
      "id": "783a0c09",
      "metadata": {
        "id": "783a0c09",
        "colab": {
          "base_uri": "https://localhost:8080/",
          "height": 290
        },
        "outputId": "5d39ddf9-5eb4-4dc3-cd41-cdbd493b07bc"
      },
      "outputs": [
        {
          "output_type": "display_data",
          "data": {
            "text/plain": [
              "<Figure size 432x288 with 1 Axes>"
            ],
            "image/png": "[encoded data removed]"
          },
          "metadata": {
            "needs_background": "light"
          }
        }
      ],
      "source": [
        "smi.qqplot(df[\"price\"], line = \"r\")\n",
        "plt.show()"
      ]
    },
    {
      "cell_type": "code",
      "execution_count": 65,
      "id": "3af09da3",
      "metadata": {
        "id": "3af09da3",
        "colab": {
          "base_uri": "https://localhost:8080/"
        },
        "outputId": "37f898f9-c18f-4e97-c2d5-1bb6abf0f85f"
      },
      "outputs": [
        {
          "output_type": "stream",
          "name": "stdout",
          "text": [
            "A hipotese nula pode ser rejeitada\n"
          ]
        }
      ],
      "source": [
        "stat_test, p_valor =stats.normaltest(df[\"price\"])\n",
        "alpha=0.05\n",
        "if p_valor < alpha:  # hipotese nula: x vem de uma distribuição normal\n",
        "    print(\"A hipotese nula pode ser rejeitada\")\n",
        "else:\n",
        "    print(\"A hipotese nula não pode ser rejeitada\")"
      ]
    },
    {
      "cell_type": "code",
      "source": [
        "fig=plt.figure(figsize=(15,15))\n",
        "\n",
        "\n",
        "k = 1\n",
        "\n",
        "for i in df.columns[3:]:\n",
        "\n",
        "    ax = fig.add_subplot(4,5,k)\n",
        "    ax.set_title(f'{i}')\n",
        "    \n",
        "    sns.boxplot(y=f\"{i}\",data=df,color='blue')\n",
        "    plt.ylabel([], fontsize=0)\n",
        "    plt.ylabel([], fontsize=0)\n",
        "    plt.tick_params(axis='y', labelsize=0, length=0)\n",
        "    k+=1\n",
        "\n",
        "plt.show()"
      ],
      "metadata": {
        "colab": {
          "base_uri": "https://localhost:8080/",
          "height": 866
        },
        "id": "hOuitAU-ifHT",
        "outputId": "a1cce64d-1001-4821-b138-682623882d25"
      },
      "id": "hOuitAU-ifHT",
      "execution_count": 66,
      "outputs": [
        {
          "output_type": "display_data",
          "data": {
            "text/plain": [
              "<Figure size 1080x1080 with 20 Axes>"
            ],
            "image/png": "[encoded data removed]"
          },
          "metadata": {
            "needs_background": "light"
          }
        }
      ]
    },
    {
      "cell_type": "code",
      "source": [
        "\n",
        "corr_df = df.corr(method='pearson')\n",
        "\n",
        "plt.figure(figsize=(8, 6))\n",
        "sns.heatmap(corr_df, annot=False)\n",
        "plt.show()"
      ],
      "metadata": {
        "id": "HW3rZwTglsGU",
        "colab": {
          "base_uri": "https://localhost:8080/",
          "height": 442
        },
        "outputId": "9259d11d-d6b7-49b5-d813-cf35f019dfd9"
      },
      "id": "HW3rZwTglsGU",
      "execution_count": 67,
      "outputs": [
        {
          "output_type": "display_data",
          "data": {
            "text/plain": [
              "<Figure size 576x432 with 2 Axes>"
            ],
            "image/png": "[encoded data removed]"
          },
          "metadata": {
            "needs_background": "light"
          }
        }
      ]
    },
    {
      "cell_type": "code",
      "source": [
        ""
      ],
      "metadata": {
        "id": "BG1T5my3bbPV"
      },
      "id": "BG1T5my3bbPV",
      "execution_count": null,
      "outputs": []
    },
    {
      "cell_type": "code",
      "execution_count": 68,
      "id": "185592fd",
      "metadata": {
        "id": "185592fd",
        "colab": {
          "base_uri": "https://localhost:8080/",
          "height": 639
        },
        "outputId": "abde04b6-7193-448b-e9c6-1f1cd4784e29"
      },
      "outputs": [
        {
          "output_type": "execute_result",
          "data": {
            "text/plain": [
              "Text(0.5, 0, 'sqft_living')"
            ]
          },
          "metadata": {},
          "execution_count": 68
        },
        {
          "output_type": "display_data",
          "data": {
            "text/plain": [
              "<Figure size 720x720 with 3 Axes>"
            ],
            "image/png": "[encoded data removed]"
          },
          "metadata": {
            "needs_background": "light"
          }
        }
      ],
      "source": [
        "fig=plt.figure(figsize=(10,10))\n",
        "\n",
        "ax=fig.add_subplot(2,2,1)\n",
        "ax.set_title('Dispersão PriceXGrade')\n",
        "plt.scatter(df.grade,df.price)\n",
        "plt.ylabel('price')\n",
        "plt.xlabel('grade')\n",
        "\n",
        "\n",
        "ax=fig.add_subplot(2,2,2)\n",
        "ax.set_title('Boxplot PriceXGrade')\n",
        "sns.boxplot(x=\"grade\",y=\"price\",data=df,color='blue')\n",
        "\n",
        "\n",
        "\n",
        "\n",
        "\n",
        "\n",
        "ax=fig.add_subplot(2,1,2)\n",
        "ax.set_title('Dispersão PriceXSqft_living')\n",
        "plt.scatter(df.sqft_living,df.price)\n",
        "plt.ylabel('price')\n",
        "plt.xlabel('sqft_living')\n",
        "\n",
        "\n",
        "\n",
        "\n"
      ]
    },
    {
      "cell_type": "code",
      "execution_count": 69,
      "id": "01fc8462",
      "metadata": {
        "id": "01fc8462",
        "colab": {
          "base_uri": "https://localhost:8080/",
          "height": 801
        },
        "outputId": "d022af8b-2782-4882-c899-970dc5bf3acd"
      },
      "outputs": [
        {
          "output_type": "display_data",
          "data": {
            "text/plain": [
              "<Figure size 864x864 with 12 Axes>"
            ],
            "image/png": "[encoded data removed]"
          },
          "metadata": {
            "needs_background": "light"
          }
        }
      ],
      "source": [
        "fig=plt.figure(figsize=(12,12))\n",
        "\n",
        "plt.subplots_adjust(wspace=0.3, hspace=1.3)\n",
        "\n",
        "#pega a frequencia\n",
        "cont=df['grade'].value_counts(normalize=True)\n",
        "\n",
        "\n",
        "#pegar o preço mais alto de cada grade\n",
        "grop=df[['grade','price']].groupby('grade').max()\n",
        "\n",
        "#pegar a frequencia de cada preço por grade\n",
        "grop2=df[['grade','price']].groupby(['grade', 'price']).size()\n",
        "\n",
        "#colocando em ordem o vetor de valores unicos de grade\n",
        "value=pd.DataFrame(df['grade'].unique()).sort_values(by=0, ascending=True).values\n",
        "value=np.array(value).reshape(-1)\n",
        "\n",
        "j=0\n",
        "for i in value:\n",
        "    j += 1\n",
        "    ax = fig.add_subplot(6,2,j)\n",
        "    sns.histplot(df[df.grade==i].price, kde=True, element='step')\n",
        "    sns.despine(bottom=True, left=True)\n",
        "    ax.set_title(f\"Categoria {i}\")\n",
        "\n",
        "    for tick in ax.get_xticklabels():\n",
        "            tick.set_rotation(55)\n",
        "            \n",
        "    plt.tick_params(axis='y', labelsize=0, length=0)\n",
        "    plt.ylabel([], fontsize=0)\n",
        "    plt.xlabel([], fontsize=0)\n",
        "    probabi = cont[i]\n",
        "    plt.text(grop.loc[i], (grop2.loc[i].sum())/25, f\"\"\"{round(probabi, 3)}\"\"\")\n",
        "    fig.suptitle('Distribuição de Preços por Categoria')\n",
        "\n",
        "    \n",
        "plt.show()\n",
        "\n",
        "#teste\n",
        "#x=df[['grade','price']].groupby(['grade', 'price']).size()\n",
        "#filtro=df.isin({'price':[250000], 'grade':[7]})\n",
        "#print(df[(filtro.price) & (filtro.grade)].shape)\n",
        "    "
      ]
    },
    {
      "cell_type": "markdown",
      "source": [
        "# **Rede Neural**"
      ],
      "metadata": {
        "id": "MEb04eHVRwKc"
      },
      "id": "MEb04eHVRwKc"
    },
    {
      "cell_type": "markdown",
      "id": "1d8485b6",
      "metadata": {
        "id": "1d8485b6"
      },
      "source": [
        "Conseguimos perceber melhor que dado a grade, os dados de price parecem seguir uma distribuição poisson\n"
      ]
    },
    {
      "cell_type": "markdown",
      "id": "ab138e25",
      "metadata": {
        "id": "ab138e25"
      },
      "source": [
        "## Tratamento dos outliers"
      ]
    },
    {
      "cell_type": "markdown",
      "id": "b3d7da13",
      "metadata": {
        "id": "b3d7da13"
      },
      "source": [
        "O método para identificar os outliers foi o do boxplot, pois não depende da distribuição da variavel. e os outliers estão sendo tratados por categoria"
      ]
    },
    {
      "cell_type": "code",
      "execution_count": 76,
      "id": "fe45aca6",
      "metadata": {
        "id": "fe45aca6",
        "colab": {
          "base_uri": "https://localhost:8080/"
        },
        "outputId": "13bc68d8-7146-42a2-cf4f-326e1c18f981"
      },
      "outputs": [
        {
          "output_type": "stream",
          "name": "stdout",
          "text": [
            "Quantidade de outliers antes e depois\n",
            "categoria 1 => 0 | 0\n",
            "categoria 3 => 0 | 0\n",
            "categoria 4 => 0 | 0\n",
            "categoria 5 => 0 | 2\n",
            "categoria 6 => 1 | 18\n",
            "categoria 7 => 12 | 53\n",
            "categoria 8 => 120 | 55\n",
            "categoria 9 => 289 | 69\n",
            "categoria 10 => 366 | 40\n",
            "categoria 11 => 260 | 18\n",
            "categoria 12 => 85 | 5\n",
            "categoria 13 => 13 | 1\n",
            "Total =======> 1146 | 261 \n"
          ]
        }
      ],
      "source": [
        "order = np.array(pd.DataFrame(df['grade'].unique()).sort_values(by=0, ascending=True)).reshape(-1)\n",
        "\n",
        "auxiliar = df.copy()\n",
        "\n",
        "\n",
        "\n",
        "for gd in order:\n",
        "    \n",
        "    ax = df.loc[df['grade']==gd,['price','grade']].copy()\n",
        "    \n",
        "    q3 = ax['price'].quantile(0.75)\n",
        "    q1 = ax['price'].quantile(0.25)\n",
        "    \n",
        "    iqr = q3-q1\n",
        "    lif = q1-(iqr*1.5)\n",
        "    lsp = q3+(iqr*1.5)\n",
        "    \n",
        "    ax.loc[(ax['price']<lif) | (ax['price']>lsp),'price']=np.nan\n",
        "    \n",
        "    \n",
        "    imputer = KNNImputer(n_neighbors=15, weights='uniform', metric='nan_euclidean')\n",
        "    imputer.fit(ax)\n",
        "\n",
        "\n",
        "\n",
        "\n",
        "    auxiliar.loc[df['grade']==gd,['price','grade']] = imputer.transform(ax)\n",
        "    \n",
        "\n",
        "ax2 = df.copy()\n",
        "ax2['price'] = auxiliar['price']\n",
        "\n",
        "print('Quantidade de outliers antes e depois')\n",
        "    \n",
        "total1=0\n",
        "total2=0\n",
        "for gd in order:\n",
        "    ax0=df.loc[df['grade']==gd].copy()\n",
        "    ax=ax2.loc[ax2['grade']==gd].copy()\n",
        "    \n",
        "    \n",
        "    q33 = df['price'].quantile(0.75)\n",
        "    q11 = df['price'].quantile(0.25)\n",
        "    \n",
        "    iqr1 = q33-q11\n",
        "    lif1 = q11-(iqr1*1.5)\n",
        "    lsp1 = q33+(iqr1*1.5)\n",
        "    \n",
        "    q3 = ax['price'].quantile(0.75)\n",
        "    q1 = ax['price'].quantile(0.25)\n",
        "    \n",
        "    iqr = q3-q1\n",
        "    lif = q1-(iqr*1.5)\n",
        "    lsp = q3+(iqr*1.5)\n",
        "    \n",
        "    ax.loc[(ax['price']<lif) | (ax['price']>lsp)]=np.nan\n",
        "    val1=ax['price'].isnull().sum()\n",
        "    \n",
        "    ax0.loc[(df['price']<lif1) | (df['price']>lsp1)]=np.nan\n",
        "    val0=ax0['price'].isnull().sum()\n",
        "    \n",
        "    total1+=val0\n",
        "    total2+=val1\n",
        "    \n",
        "    \n",
        "    print(f\"categoria {int(gd)} => {val0} | {val1}\")\n",
        "    \n",
        "    \n",
        "print(f'Total =======> {total1} | {total2} ')\n",
        "    "
      ]
    },
    {
      "cell_type": "markdown",
      "id": "6e3fe2bc",
      "metadata": {
        "id": "6e3fe2bc"
      },
      "source": [
        " Conseguimos tratar aproximadamente 77% dos outliers, de modo que não são mais outliers no novo conjunto de dados"
      ]
    },
    {
      "cell_type": "code",
      "execution_count": 77,
      "id": "550c605f",
      "metadata": {
        "id": "550c605f",
        "colab": {
          "base_uri": "https://localhost:8080/",
          "height": 398
        },
        "outputId": "f78639d8-af75-4300-ea1a-5844775e3fa1"
      },
      "outputs": [
        {
          "output_type": "execute_result",
          "data": {
            "text/plain": [
              "<matplotlib.axes._subplots.AxesSubplot at 0x7ff833099550>"
            ]
          },
          "metadata": {},
          "execution_count": 77
        },
        {
          "output_type": "display_data",
          "data": {
            "text/plain": [
              "<Figure size 720x720 with 2 Axes>"
            ],
            "image/png": "[encoded data removed]"
          },
          "metadata": {
            "needs_background": "light"
          }
        }
      ],
      "source": [
        "grop=ax2[['grade','price']].groupby('grade').mean()\n",
        "\n",
        "fig=plt.figure(figsize=(10,10))\n",
        "fig.suptitle('Dados tratados')\n",
        "\n",
        "\n",
        "\n",
        "ax=fig.add_subplot(2,2,1)\n",
        "plt.scatter(ax2.grade,ax2.price)\n",
        "plt.ylabel('price')\n",
        "plt.xlabel('grade')\n",
        "\n",
        "\n",
        "plt.plot(grop.index,grop.price, 'o-', color='red',label='Média Condicional Amostral')\n",
        "plt.legend()\n",
        "\n",
        "\n",
        "\n",
        "ax=fig.add_subplot(2,2,2)\n",
        "sns.boxplot(x=\"grade\",y=\"price\",data=ax2,color='blue')\n",
        "\n"
      ]
    },
    {
      "cell_type": "markdown",
      "source": [
        "##**Normalização**\n"
      ],
      "metadata": {
        "id": "O0oehhF2cwiE"
      },
      "id": "O0oehhF2cwiE"
    },
    {
      "cell_type": "code",
      "source": [
        "\n",
        "x_scale = StandardScaler()\n",
        "x = ax2.grade.values\n",
        "x = x.reshape(len(x),1)\n",
        "x_transformed = x_scale.fit_transform(x)\n",
        "\n",
        "y_scale = StandardScaler()\n",
        "y = ax2.price.values\n",
        "y = y.reshape(len(y),1)\n",
        "y_transformed = y_scale.fit_transform(y)\n"
      ],
      "metadata": {
        "id": "gkZJWWse4KzA"
      },
      "id": "gkZJWWse4KzA",
      "execution_count": 78,
      "outputs": []
    },
    {
      "cell_type": "markdown",
      "source": [
        "##Desempenho\n",
        "\n"
      ],
      "metadata": {
        "id": "SS1pU4hOTlfC"
      },
      "id": "SS1pU4hOTlfC"
    },
    {
      "cell_type": "code",
      "source": [
        "resultados_rede_neural = []\n",
        "\n",
        "for i in range(30):\n",
        "    \n",
        "    kfold = KFold(n_splits=10, shuffle=True, random_state=i)\n",
        "\n",
        "    rede_neural = rn()\n",
        "    scores = cross_val_score(rede_neural, x_transformed, y_transformed.ravel(), cv = kfold)\n",
        "    resultados_rede_neural.append(scores.mean())"
      ],
      "metadata": {
        "id": "fFnTDxcpwGDv"
      },
      "id": "fFnTDxcpwGDv",
      "execution_count": null,
      "outputs": []
    },
    {
      "cell_type": "code",
      "source": [
        "pd.Series(resultados_rede_neural).describe()"
      ],
      "metadata": {
        "colab": {
          "base_uri": "https://localhost:8080/"
        },
        "id": "SN1wTXhJ7OiZ",
        "outputId": "2985a412-2898-452f-d3ef-099a6aa81723"
      },
      "id": "SN1wTXhJ7OiZ",
      "execution_count": null,
      "outputs": [
        {
          "output_type": "execute_result",
          "data": {
            "text/plain": [
              "count    30.000000\n",
              "mean      0.613121\n",
              "std       0.000890\n",
              "min       0.611175\n",
              "25%       0.612522\n",
              "50%       0.612989\n",
              "75%       0.613677\n",
              "max       0.614751\n",
              "dtype: float64"
            ]
          },
          "metadata": {},
          "execution_count": 27
        }
      ]
    },
    {
      "cell_type": "markdown",
      "source": [
        "## Rede Neural"
      ],
      "metadata": {
        "id": "jplOL2VPUXod"
      },
      "id": "jplOL2VPUXod"
    },
    {
      "cell_type": "code",
      "source": [
        "rede_neural = rn()\n",
        "rede_neural.fit(x_transformed,y_transformed.ravel())\n",
        "R=rede_neural.score(x_transformed,y_transformed.ravel())"
      ],
      "metadata": {
        "id": "120mDjjy7ywN"
      },
      "id": "120mDjjy7ywN",
      "execution_count": 116,
      "outputs": []
    },
    {
      "cell_type": "markdown",
      "source": [
        "## Visualização"
      ],
      "metadata": {
        "id": "8vi22tXpTfML"
      },
      "id": "8vi22tXpTfML"
    },
    {
      "cell_type": "code",
      "source": [
        "fig=plt.figure(figsize=(5,5))\n",
        "fig.suptitle(r'Rede Neural $R^{2}$='+f'{R}')\n",
        "\n",
        "\n",
        "plt.scatter(x_transformed,y_transformed)\n",
        "\n",
        "x_aux = np.array(sorted(pd.Series(x_transformed.reshape(-1)).unique()))\n",
        "x_aux = x_aux.reshape(len(x_aux),1)\n",
        "\n",
        "y_aux = rede_neural.predict(x_aux)\n",
        "plt.plot(x_aux,y_aux,'o-',color='red',label='Valor Predito')\n",
        "plt.legend()"
      ],
      "metadata": {
        "id": "o2IxwHtP--l7",
        "colab": {
          "base_uri": "https://localhost:8080/",
          "height": 373
        },
        "outputId": "ff1f8253-decf-4b69-850b-05eaf1bd5d60"
      },
      "id": "o2IxwHtP--l7",
      "execution_count": 117,
      "outputs": [
        {
          "output_type": "execute_result",
          "data": {
            "text/plain": [
              "<matplotlib.legend.Legend at 0x7ff8334de890>"
            ]
          },
          "metadata": {},
          "execution_count": 117
        },
        {
          "output_type": "display_data",
          "data": {
            "text/plain": [
              "<Figure size 360x360 with 1 Axes>"
            ],
            "image/png": "[encoded data removed]"
          },
          "metadata": {
            "needs_background": "light"
          }
        }
      ]
    },
    {
      "cell_type": "markdown",
      "source": [
        "#**Regressão** **Linear** "
      ],
      "metadata": {
        "id": "gq0mphriR6FS"
      },
      "id": "gq0mphriR6FS"
    },
    {
      "cell_type": "markdown",
      "source": [
        "##Tratamento de Outliers"
      ],
      "metadata": {
        "id": "liyC8qkRSaCN"
      },
      "id": "liyC8qkRSaCN"
    },
    {
      "cell_type": "code",
      "source": [
        "detector = KNN(n_neighbors=1)\n",
        "detector.fit(df.iloc[:,[0,3]])\n",
        "previsoes = detector.labels_\n",
        "\n",
        "outliers_index = []\n",
        "for i in range(len(previsoes)):\n",
        "\n",
        "  if previsoes[i] == 1:\n",
        "    outliers_index.append(i)\n",
        "\n",
        "df_aux = df.copy()\n",
        "df_aux['bool'] = np.zeros(len(df))\n",
        "df_aux.loc[outliers_index,'bool']=1\n",
        "df_aux['bool'].replace({0:'Normal',1:'Outlier'},inplace=True)"
      ],
      "metadata": {
        "id": "NuxqTplJ0N9q"
      },
      "id": "NuxqTplJ0N9q",
      "execution_count": null,
      "outputs": []
    },
    {
      "cell_type": "code",
      "source": [
        "fig=plt.figure(figsize=(10,5))\n",
        "\n",
        "\n",
        "\n",
        "ax = fig.add_subplot(1,2,1)\n",
        "plt.scatter(df.sqft_living,df.price)\n",
        "\n",
        "plt.ylabel('price')\n",
        "plt.xlabel('sqft_living')\n",
        "\n",
        "\n",
        "\n",
        "ax = fig.add_subplot(1,2,2)\n",
        "sns.scatterplot(data=df_aux,x='sqft_living',y='price',hue='bool')\n",
        "\n",
        "plt.ylabel('price')\n",
        "plt.xlabel('sqft_living')"
      ],
      "metadata": {
        "colab": {
          "base_uri": "https://localhost:8080/",
          "height": 363
        },
        "id": "_22FWZr91Yl9",
        "outputId": "a86dfaf0-60f0-492a-896c-6eb38b0dcab3"
      },
      "id": "_22FWZr91Yl9",
      "execution_count": null,
      "outputs": [
        {
          "output_type": "execute_result",
          "data": {
            "text/plain": [
              "Text(0.5, 0, 'sqft_living')"
            ]
          },
          "metadata": {},
          "execution_count": 92
        },
        {
          "output_type": "display_data",
          "data": {
            "text/plain": [
              "<Figure size 720x360 with 2 Axes>"
            ],
            "image/png": "[encoded data removed]"
          },
          "metadata": {
            "needs_background": "light"
          }
        }
      ]
    },
    {
      "cell_type": "code",
      "source": [
        "ax3 = df.copy()\n",
        "ax3.loc[outliers_index,['price','sqft_living']] = np.nan"
      ],
      "metadata": {
        "id": "z_K7IeWm2GD-"
      },
      "id": "z_K7IeWm2GD-",
      "execution_count": null,
      "outputs": []
    },
    {
      "cell_type": "code",
      "source": [
        "imputer = KNNImputer(n_neighbors=15, weights='uniform', metric='nan_euclidean')\n",
        "imputer.fit(ax3)\n",
        "\n",
        "\n",
        "ax3 = pd.DataFrame(imputer.transform(ax3),columns=ax3.columns)\n",
        "ax3.head()"
      ],
      "metadata": {
        "colab": {
          "base_uri": "https://localhost:8080/",
          "height": 270
        },
        "id": "8Sk7e2X-2V7E",
        "outputId": "08598876-dc75-41e1-d6e3-8c024aa88e11"
      },
      "id": "8Sk7e2X-2V7E",
      "execution_count": null,
      "outputs": [
        {
          "output_type": "execute_result",
          "data": {
            "text/plain": [
              "      price  bedrooms  bathrooms  sqft_living  sqft_lot  floors  waterfront  \\\n",
              "0  221900.0       3.0        1.0       1180.0    5650.0     1.0         0.0   \n",
              "1  538000.0       3.0        2.0       2570.0    7242.0     2.0         0.0   \n",
              "2  180000.0       2.0        1.0        770.0   10000.0     1.0         0.0   \n",
              "3  604000.0       4.0        3.0       1960.0    5000.0     1.0         0.0   \n",
              "4  510000.0       3.0        2.0       1680.0    8080.0     1.0         0.0   \n",
              "\n",
              "   view  grade  sqft_above  sqft_basement  yr_built  sqft_living15  \\\n",
              "0   0.0    7.0      1180.0            0.0    1955.0         1340.0   \n",
              "1   0.0    7.0      2170.0          400.0    1951.0         1690.0   \n",
              "2   0.0    6.0       770.0            0.0    1933.0         2720.0   \n",
              "3   0.0    7.0      1050.0          910.0    1965.0         1360.0   \n",
              "4   0.0    8.0      1680.0            0.0    1987.0         1800.0   \n",
              "\n",
              "   sqft_lot15  Month    Year  \n",
              "0      5650.0   10.0  2014.0  \n",
              "1      7639.0   12.0  2014.0  \n",
              "2      8062.0    2.0  2015.0  \n",
              "3      5000.0   12.0  2014.0  \n",
              "4      7503.0    2.0  2015.0  "
            ],
            "text/html": [
              "\n",
              "  <div id=\"df-1e3f077e-1fa7-4452-9061-04a2d9991d77\">\n",
              "    <div class=\"colab-df-container\">\n",
              "      <div>\n",
              "<style scoped>\n",
              "    .dataframe tbody tr th:only-of-type {\n",
              "        vertical-align: middle;\n",
              "    }\n",
              "\n",
              "    .dataframe tbody tr th {\n",
              "        vertical-align: top;\n",
              "    }\n",
              "\n",
              "    .dataframe thead th {\n",
              "        text-align: right;\n",
              "    }\n",
              "</style>\n",
              "<table border=\"1\" class=\"dataframe\">\n",
              "  <thead>\n",
              "    <tr style=\"text-align: right;\">\n",
              "      <th></th>\n",
              "      <th>price</th>\n",
              "      <th>bedrooms</th>\n",
              "      <th>bathrooms</th>\n",
              "      <th>sqft_living</th>\n",
              "      <th>sqft_lot</th>\n",
              "      <th>floors</th>\n",
              "      <th>waterfront</th>\n",
              "      <th>view</th>\n",
              "      <th>grade</th>\n",
              "      <th>sqft_above</th>\n",
              "      <th>sqft_basement</th>\n",
              "      <th>yr_built</th>\n",
              "      <th>sqft_living15</th>\n",
              "      <th>sqft_lot15</th>\n",
              "      <th>Month</th>\n",
              "      <th>Year</th>\n",
              "    </tr>\n",
              "  </thead>\n",
              "  <tbody>\n",
              "    <tr>\n",
              "      <th>0</th>\n",
              "      <td>221900.0</td>\n",
              "      <td>3.0</td>\n",
              "      <td>1.0</td>\n",
              "      <td>1180.0</td>\n",
              "      <td>5650.0</td>\n",
              "      <td>1.0</td>\n",
              "      <td>0.0</td>\n",
              "      <td>0.0</td>\n",
              "      <td>7.0</td>\n",
              "      <td>1180.0</td>\n",
              "      <td>0.0</td>\n",
              "      <td>1955.0</td>\n",
              "      <td>1340.0</td>\n",
              "      <td>5650.0</td>\n",
              "      <td>10.0</td>\n",
              "      <td>2014.0</td>\n",
              "    </tr>\n",
              "    <tr>\n",
              "      <th>1</th>\n",
              "      <td>538000.0</td>\n",
              "      <td>3.0</td>\n",
              "      <td>2.0</td>\n",
              "      <td>2570.0</td>\n",
              "      <td>7242.0</td>\n",
              "      <td>2.0</td>\n",
              "      <td>0.0</td>\n",
              "      <td>0.0</td>\n",
              "      <td>7.0</td>\n",
              "      <td>2170.0</td>\n",
              "      <td>400.0</td>\n",
              "      <td>1951.0</td>\n",
              "      <td>1690.0</td>\n",
              "      <td>7639.0</td>\n",
              "      <td>12.0</td>\n",
              "      <td>2014.0</td>\n",
              "    </tr>\n",
              "    <tr>\n",
              "      <th>2</th>\n",
              "      <td>180000.0</td>\n",
              "      <td>2.0</td>\n",
              "      <td>1.0</td>\n",
              "      <td>770.0</td>\n",
              "      <td>10000.0</td>\n",
              "      <td>1.0</td>\n",
              "      <td>0.0</td>\n",
              "      <td>0.0</td>\n",
              "      <td>6.0</td>\n",
              "      <td>770.0</td>\n",
              "      <td>0.0</td>\n",
              "      <td>1933.0</td>\n",
              "      <td>2720.0</td>\n",
              "      <td>8062.0</td>\n",
              "      <td>2.0</td>\n",
              "      <td>2015.0</td>\n",
              "    </tr>\n",
              "    <tr>\n",
              "      <th>3</th>\n",
              "      <td>604000.0</td>\n",
              "      <td>4.0</td>\n",
              "      <td>3.0</td>\n",
              "      <td>1960.0</td>\n",
              "      <td>5000.0</td>\n",
              "      <td>1.0</td>\n",
              "      <td>0.0</td>\n",
              "      <td>0.0</td>\n",
              "      <td>7.0</td>\n",
              "      <td>1050.0</td>\n",
              "      <td>910.0</td>\n",
              "      <td>1965.0</td>\n",
              "      <td>1360.0</td>\n",
              "      <td>5000.0</td>\n",
              "      <td>12.0</td>\n",
              "      <td>2014.0</td>\n",
              "    </tr>\n",
              "    <tr>\n",
              "      <th>4</th>\n",
              "      <td>510000.0</td>\n",
              "      <td>3.0</td>\n",
              "      <td>2.0</td>\n",
              "      <td>1680.0</td>\n",
              "      <td>8080.0</td>\n",
              "      <td>1.0</td>\n",
              "      <td>0.0</td>\n",
              "      <td>0.0</td>\n",
              "      <td>8.0</td>\n",
              "      <td>1680.0</td>\n",
              "      <td>0.0</td>\n",
              "      <td>1987.0</td>\n",
              "      <td>1800.0</td>\n",
              "      <td>7503.0</td>\n",
              "      <td>2.0</td>\n",
              "      <td>2015.0</td>\n",
              "    </tr>\n",
              "  </tbody>\n",
              "</table>\n",
              "</div>\n",
              "      <button class=\"colab-df-convert\" onclick=\"convertToInteractive('df-1e3f077e-1fa7-4452-9061-04a2d9991d77')\"\n",
              "              title=\"Convert this dataframe to an interactive table.\"\n",
              "              style=\"display:none;\">\n",
              "        \n",
              "  <svg xmlns=\"http://www.w3.org/2000/svg\" height=\"24px\"viewBox=\"0 0 24 24\"\n",
              "       width=\"24px\">\n",
              "    <path d=\"M0 0h24v24H0V0z\" fill=\"none\"/>\n",
              "    <path d=\"M18.56 5.44l.94 2.06.94-2.06 2.06-.94-2.06-.94-.94-2.06-.94 2.06-2.06.94zm-11 1L8.5 8.5l.94-2.06 2.06-.94-2.06-.94L8.5 2.5l-.94 2.06-2.06.94zm10 10l.94 2.06.94-2.06 2.06-.94-2.06-.94-.94-2.06-.94 2.06-2.06.94z\"/><path d=\"M17.41 7.96l-1.37-1.37c-.4-.4-.92-.59-1.43-.59-.52 0-1.04.2-1.43.59L10.3 9.45l-7.72 7.72c-.78.78-.78 2.05 0 2.83L4 21.41c.39.39.9.59 1.41.59.51 0 1.02-.2 1.41-.59l7.78-7.78 2.81-2.81c.8-.78.8-2.07 0-2.86zM5.41 20L4 18.59l7.72-7.72 1.47 1.35L5.41 20z\"/>\n",
              "  </svg>\n",
              "      </button>\n",
              "      \n",
              "  <style>\n",
              "    .colab-df-container {\n",
              "      display:flex;\n",
              "      flex-wrap:wrap;\n",
              "      gap: 12px;\n",
              "    }\n",
              "\n",
              "    .colab-df-convert {\n",
              "      background-color: #E8F0FE;\n",
              "      border: none;\n",
              "      border-radius: 50%;\n",
              "      cursor: pointer;\n",
              "      display: none;\n",
              "      fill: #1967D2;\n",
              "      height: 32px;\n",
              "      padding: 0 0 0 0;\n",
              "      width: 32px;\n",
              "    }\n",
              "\n",
              "    .colab-df-convert:hover {\n",
              "      background-color: #E2EBFA;\n",
              "      box-shadow: 0px 1px 2px rgba(60, 64, 67, 0.3), 0px 1px 3px 1px rgba(60, 64, 67, 0.15);\n",
              "      fill: #174EA6;\n",
              "    }\n",
              "\n",
              "    [theme=dark] .colab-df-convert {\n",
              "      background-color: #3B4455;\n",
              "      fill: #D2E3FC;\n",
              "    }\n",
              "\n",
              "    [theme=dark] .colab-df-convert:hover {\n",
              "      background-color: #434B5C;\n",
              "      box-shadow: 0px 1px 3px 1px rgba(0, 0, 0, 0.15);\n",
              "      filter: drop-shadow(0px 1px 2px rgba(0, 0, 0, 0.3));\n",
              "      fill: #FFFFFF;\n",
              "    }\n",
              "  </style>\n",
              "\n",
              "      <script>\n",
              "        const buttonEl =\n",
              "          document.querySelector('#df-1e3f077e-1fa7-4452-9061-04a2d9991d77 button.colab-df-convert');\n",
              "        buttonEl.style.display =\n",
              "          google.colab.kernel.accessAllowed ? 'block' : 'none';\n",
              "\n",
              "        async function convertToInteractive(key) {\n",
              "          const element = document.querySelector('#df-1e3f077e-1fa7-4452-9061-04a2d9991d77');\n",
              "          const dataTable =\n",
              "            await google.colab.kernel.invokeFunction('convertToInteractive',\n",
              "                                                     [key], {});\n",
              "          if (!dataTable) return;\n",
              "\n",
              "          const docLinkHtml = 'Like what you see? Visit the ' +\n",
              "            '<a target=\"_blank\" href=https://colab.research.google.com/notebooks/data_table.ipynb>data table notebook</a>'\n",
              "            + ' to learn more about interactive tables.';\n",
              "          element.innerHTML = '';\n",
              "          dataTable['output_type'] = 'display_data';\n",
              "          await google.colab.output.renderOutput(dataTable, element);\n",
              "          const docLink = document.createElement('div');\n",
              "          docLink.innerHTML = docLinkHtml;\n",
              "          element.appendChild(docLink);\n",
              "        }\n",
              "      </script>\n",
              "    </div>\n",
              "  </div>\n",
              "  "
            ]
          },
          "metadata": {},
          "execution_count": 94
        }
      ]
    },
    {
      "cell_type": "code",
      "source": [
        "fig=plt.figure(figsize=(10,5))\n",
        "\n",
        "\n",
        "\n",
        "ax = fig.add_subplot(1,2,1)\n",
        "plt.scatter(ax3.sqft_living,ax3.price)\n",
        "\n",
        "plt.ylabel('price')\n",
        "plt.xlabel('sqft_living')"
      ],
      "metadata": {
        "colab": {
          "base_uri": "https://localhost:8080/",
          "height": 363
        },
        "id": "QM6CBklC2bZv",
        "outputId": "a14abf8b-71c8-4589-bb81-5e8348d42e5d"
      },
      "id": "QM6CBklC2bZv",
      "execution_count": null,
      "outputs": [
        {
          "output_type": "execute_result",
          "data": {
            "text/plain": [
              "Text(0.5, 0, 'sqft_living')"
            ]
          },
          "metadata": {},
          "execution_count": 95
        },
        {
          "output_type": "display_data",
          "data": {
            "text/plain": [
              "<Figure size 720x360 with 1 Axes>"
            ],
            "image/png": "[encoded data removed]"
          },
          "metadata": {
            "needs_background": "light"
          }
        }
      ]
    },
    {
      "cell_type": "markdown",
      "source": [
        "##**Normalização**\n"
      ],
      "metadata": {
        "id": "g-GzKkejSqpd"
      },
      "id": "g-GzKkejSqpd"
    },
    {
      "cell_type": "code",
      "source": [
        "x_scale = StandardScaler()\n",
        "x = ax3.sqft_living.values\n",
        "x = x.reshape(len(x),1)\n",
        "x_transformed = x_scale.fit_transform(x)\n",
        "\n",
        "y_scale = StandardScaler()\n",
        "y = ax3.price.values\n",
        "y = y.reshape(len(y),1)\n",
        "y_transformed = y_scale.fit_transform(y)"
      ],
      "metadata": {
        "id": "FUaGt6zkJ3Af"
      },
      "id": "FUaGt6zkJ3Af",
      "execution_count": null,
      "outputs": []
    },
    {
      "cell_type": "markdown",
      "source": [
        "foi feita regressão com rede neural para comparação"
      ],
      "metadata": {
        "id": "6dbBzsnuTAX5"
      },
      "id": "6dbBzsnuTAX5"
    },
    {
      "cell_type": "code",
      "source": [
        "rede_neural=rn()\n",
        "rede_neural.fit(x_transformed,y_transformed.ravel())\n",
        "R=rede_neural.score(x_transformed,y_transformed.ravel())"
      ],
      "metadata": {
        "id": "qDo2MHK1KJeD"
      },
      "id": "qDo2MHK1KJeD",
      "execution_count": null,
      "outputs": []
    },
    {
      "cell_type": "markdown",
      "source": [
        "regressão linear"
      ],
      "metadata": {
        "id": "DaacKrj5TJ60"
      },
      "id": "DaacKrj5TJ60"
    },
    {
      "cell_type": "code",
      "source": [
        "regressao_linear = LinearRegression()\n",
        "regressao_linear.fit(x_transformed,y_transformed.ravel())\n",
        "R2=regressao_linear.score(x_transformed,y_transformed.ravel())"
      ],
      "metadata": {
        "id": "gazghojRLCG0"
      },
      "id": "gazghojRLCG0",
      "execution_count": null,
      "outputs": []
    },
    {
      "cell_type": "markdown",
      "source": [
        "## Visualização"
      ],
      "metadata": {
        "id": "0WgZf6qfTQEJ"
      },
      "id": "0WgZf6qfTQEJ"
    },
    {
      "cell_type": "code",
      "source": [
        "fig=plt.figure(figsize=(10,5))\n",
        "\n",
        "\n",
        "ax = fig.add_subplot(1,2,1)\n",
        "ax.set_title(r'Rede Neural $R^{2}$='+f'{round(R,3)}')\n",
        "\n",
        "plt.scatter(x_transformed,y_transformed)\n",
        "\n",
        "x_aux = np.array(sorted(pd.Series(x_transformed.reshape(-1)).unique()))\n",
        "x_aux = x_aux.reshape(len(x_aux),1)\n",
        "\n",
        "y_aux = rede_neural.predict(x_aux)\n",
        "plt.plot(x_aux,y_aux,'o-',color='red',label='Valor Predito')\n",
        "plt.legend()\n",
        "\n",
        "\n",
        "ax = fig.add_subplot(1,2,2)\n",
        "ax.set_title(r'Regressão Linear $R^{2}$='+f'{round(R2,3)}')\n",
        "\n",
        "plt.scatter(x_transformed,y_transformed)\n",
        "\n",
        "x_aux = np.array(sorted(pd.Series(x_transformed.reshape(-1)).unique()))\n",
        "x_aux = x_aux.reshape(len(x_aux),1)\n",
        "\n",
        "y_aux = regressao_linear.predict(x_aux)\n",
        "plt.plot(x_aux,y_aux,'o-',color='red',label='Valor Predito')\n",
        "plt.legend()\n"
      ],
      "metadata": {
        "colab": {
          "base_uri": "https://localhost:8080/",
          "height": 357
        },
        "id": "VeZPQILrKOiL",
        "outputId": "ed0ec3ab-8990-4833-e22c-a5d206d6fb8a"
      },
      "id": "VeZPQILrKOiL",
      "execution_count": null,
      "outputs": [
        {
          "output_type": "execute_result",
          "data": {
            "text/plain": [
              "<matplotlib.legend.Legend at 0x7f0b788ef990>"
            ]
          },
          "metadata": {},
          "execution_count": 118
        },
        {
          "output_type": "display_data",
          "data": {
            "text/plain": [
              "<Figure size 720x360 with 2 Axes>"
            ],
            "image/png": "[encoded data removed]"
          },
          "metadata": {
            "needs_background": "light"
          }
        }
      ]
    },
    {
      "cell_type": "markdown",
      "source": [
        "# **Usando todos atributos**"
      ],
      "metadata": {
        "id": "JPTrBOFJZADi"
      },
      "id": "JPTrBOFJZADi"
    },
    {
      "cell_type": "code",
      "source": [
        "detector = KNN(n_neighbors=7)\n",
        "detector.fit(df.iloc[:,2:])\n",
        "previsoes = detector.labels_\n",
        "\n",
        "outliers_index = []\n",
        "for i in range(len(previsoes)):\n",
        "\n",
        "  if previsoes[i] == 1:\n",
        "    outliers_index.append(i)\n",
        "\n",
        "df_aux = df.loc[:,'price':].copy()"
      ],
      "metadata": {
        "id": "tZJGAz4NU0PA"
      },
      "id": "tZJGAz4NU0PA",
      "execution_count": 39,
      "outputs": []
    },
    {
      "cell_type": "code",
      "source": [
        "df_aux.loc[outliers_index,:] = np.nan"
      ],
      "metadata": {
        "id": "q2b7d11lV9sZ"
      },
      "id": "q2b7d11lV9sZ",
      "execution_count": 40,
      "outputs": []
    },
    {
      "cell_type": "code",
      "source": [
        "imputer = KNNImputer(n_neighbors=7, weights='uniform', metric='nan_euclidean')\n",
        "imputer.fit(df_aux)\n",
        "\n",
        "\n",
        "df_aux = pd.DataFrame(imputer.transform(df_aux),columns=df_aux.columns)\n",
        "df_aux.head()"
      ],
      "metadata": {
        "colab": {
          "base_uri": "https://localhost:8080/",
          "height": 300
        },
        "id": "uJWYnBIbW6pg",
        "outputId": "c0239ff2-5d29-47b4-ec77-86cc45e1e55c"
      },
      "id": "uJWYnBIbW6pg",
      "execution_count": 41,
      "outputs": [
        {
          "output_type": "execute_result",
          "data": {
            "text/plain": [
              "      price  bedrooms  bathrooms  sqft_living  sqft_lot  floors  waterfront  \\\n",
              "0  221900.0       3.0        1.0       1180.0    5650.0     1.0         0.0   \n",
              "1  538000.0       3.0        2.0       2570.0    7242.0     2.0         0.0   \n",
              "2  180000.0       2.0        1.0        770.0   10000.0     1.0         0.0   \n",
              "3  604000.0       4.0        3.0       1960.0    5000.0     1.0         0.0   \n",
              "4  510000.0       3.0        2.0       1680.0    8080.0     1.0         0.0   \n",
              "\n",
              "   view  condition  grade  ...  sqft_basement  yr_built  yr_renovated  \\\n",
              "0   0.0        3.0    7.0  ...            0.0    1955.0           0.0   \n",
              "1   0.0        3.0    7.0  ...          400.0    1951.0        1991.0   \n",
              "2   0.0        3.0    6.0  ...            0.0    1933.0           0.0   \n",
              "3   0.0        5.0    7.0  ...          910.0    1965.0           0.0   \n",
              "4   0.0        3.0    8.0  ...            0.0    1987.0           0.0   \n",
              "\n",
              "   zipcode      lat     long  sqft_living15  sqft_lot15  Month    Year  \n",
              "0  98178.0  47.5112 -122.257         1340.0      5650.0   10.0  2014.0  \n",
              "1  98125.0  47.7210 -122.319         1690.0      7639.0   12.0  2014.0  \n",
              "2  98028.0  47.7379 -122.233         2720.0      8062.0    2.0  2015.0  \n",
              "3  98136.0  47.5208 -122.393         1360.0      5000.0   12.0  2014.0  \n",
              "4  98074.0  47.6168 -122.045         1800.0      7503.0    2.0  2015.0  \n",
              "\n",
              "[5 rows x 21 columns]"
            ],
            "text/html": [
              "\n",
              "  <div id=\"df-0e81c870-09a2-456a-a174-3583c8e7909a\">\n",
              "    <div class=\"colab-df-container\">\n",
              "      <div>\n",
              "<style scoped>\n",
              "    .dataframe tbody tr th:only-of-type {\n",
              "        vertical-align: middle;\n",
              "    }\n",
              "\n",
              "    .dataframe tbody tr th {\n",
              "        vertical-align: top;\n",
              "    }\n",
              "\n",
              "    .dataframe thead th {\n",
              "        text-align: right;\n",
              "    }\n",
              "</style>\n",
              "<table border=\"1\" class=\"dataframe\">\n",
              "  <thead>\n",
              "    <tr style=\"text-align: right;\">\n",
              "      <th></th>\n",
              "      <th>price</th>\n",
              "      <th>bedrooms</th>\n",
              "      <th>bathrooms</th>\n",
              "      <th>sqft_living</th>\n",
              "      <th>sqft_lot</th>\n",
              "      <th>floors</th>\n",
              "      <th>waterfront</th>\n",
              "      <th>view</th>\n",
              "      <th>condition</th>\n",
              "      <th>grade</th>\n",
              "      <th>...</th>\n",
              "      <th>sqft_basement</th>\n",
              "      <th>yr_built</th>\n",
              "      <th>yr_renovated</th>\n",
              "      <th>zipcode</th>\n",
              "      <th>lat</th>\n",
              "      <th>long</th>\n",
              "      <th>sqft_living15</th>\n",
              "      <th>sqft_lot15</th>\n",
              "      <th>Month</th>\n",
              "      <th>Year</th>\n",
              "    </tr>\n",
              "  </thead>\n",
              "  <tbody>\n",
              "    <tr>\n",
              "      <th>0</th>\n",
              "      <td>221900.0</td>\n",
              "      <td>3.0</td>\n",
              "      <td>1.0</td>\n",
              "      <td>1180.0</td>\n",
              "      <td>5650.0</td>\n",
              "      <td>1.0</td>\n",
              "      <td>0.0</td>\n",
              "      <td>0.0</td>\n",
              "      <td>3.0</td>\n",
              "      <td>7.0</td>\n",
              "      <td>...</td>\n",
              "      <td>0.0</td>\n",
              "      <td>1955.0</td>\n",
              "      <td>0.0</td>\n",
              "      <td>98178.0</td>\n",
              "      <td>47.5112</td>\n",
              "      <td>-122.257</td>\n",
              "      <td>1340.0</td>\n",
              "      <td>5650.0</td>\n",
              "      <td>10.0</td>\n",
              "      <td>2014.0</td>\n",
              "    </tr>\n",
              "    <tr>\n",
              "      <th>1</th>\n",
              "      <td>538000.0</td>\n",
              "      <td>3.0</td>\n",
              "      <td>2.0</td>\n",
              "      <td>2570.0</td>\n",
              "      <td>7242.0</td>\n",
              "      <td>2.0</td>\n",
              "      <td>0.0</td>\n",
              "      <td>0.0</td>\n",
              "      <td>3.0</td>\n",
              "      <td>7.0</td>\n",
              "      <td>...</td>\n",
              "      <td>400.0</td>\n",
              "      <td>1951.0</td>\n",
              "      <td>1991.0</td>\n",
              "      <td>98125.0</td>\n",
              "      <td>47.7210</td>\n",
              "      <td>-122.319</td>\n",
              "      <td>1690.0</td>\n",
              "      <td>7639.0</td>\n",
              "      <td>12.0</td>\n",
              "      <td>2014.0</td>\n",
              "    </tr>\n",
              "    <tr>\n",
              "      <th>2</th>\n",
              "      <td>180000.0</td>\n",
              "      <td>2.0</td>\n",
              "      <td>1.0</td>\n",
              "      <td>770.0</td>\n",
              "      <td>10000.0</td>\n",
              "      <td>1.0</td>\n",
              "      <td>0.0</td>\n",
              "      <td>0.0</td>\n",
              "      <td>3.0</td>\n",
              "      <td>6.0</td>\n",
              "      <td>...</td>\n",
              "      <td>0.0</td>\n",
              "      <td>1933.0</td>\n",
              "      <td>0.0</td>\n",
              "      <td>98028.0</td>\n",
              "      <td>47.7379</td>\n",
              "      <td>-122.233</td>\n",
              "      <td>2720.0</td>\n",
              "      <td>8062.0</td>\n",
              "      <td>2.0</td>\n",
              "      <td>2015.0</td>\n",
              "    </tr>\n",
              "    <tr>\n",
              "      <th>3</th>\n",
              "      <td>604000.0</td>\n",
              "      <td>4.0</td>\n",
              "      <td>3.0</td>\n",
              "      <td>1960.0</td>\n",
              "      <td>5000.0</td>\n",
              "      <td>1.0</td>\n",
              "      <td>0.0</td>\n",
              "      <td>0.0</td>\n",
              "      <td>5.0</td>\n",
              "      <td>7.0</td>\n",
              "      <td>...</td>\n",
              "      <td>910.0</td>\n",
              "      <td>1965.0</td>\n",
              "      <td>0.0</td>\n",
              "      <td>98136.0</td>\n",
              "      <td>47.5208</td>\n",
              "      <td>-122.393</td>\n",
              "      <td>1360.0</td>\n",
              "      <td>5000.0</td>\n",
              "      <td>12.0</td>\n",
              "      <td>2014.0</td>\n",
              "    </tr>\n",
              "    <tr>\n",
              "      <th>4</th>\n",
              "      <td>510000.0</td>\n",
              "      <td>3.0</td>\n",
              "      <td>2.0</td>\n",
              "      <td>1680.0</td>\n",
              "      <td>8080.0</td>\n",
              "      <td>1.0</td>\n",
              "      <td>0.0</td>\n",
              "      <td>0.0</td>\n",
              "      <td>3.0</td>\n",
              "      <td>8.0</td>\n",
              "      <td>...</td>\n",
              "      <td>0.0</td>\n",
              "      <td>1987.0</td>\n",
              "      <td>0.0</td>\n",
              "      <td>98074.0</td>\n",
              "      <td>47.6168</td>\n",
              "      <td>-122.045</td>\n",
              "      <td>1800.0</td>\n",
              "      <td>7503.0</td>\n",
              "      <td>2.0</td>\n",
              "      <td>2015.0</td>\n",
              "    </tr>\n",
              "  </tbody>\n",
              "</table>\n",
              "<p>5 rows × 21 columns</p>\n",
              "</div>\n",
              "      <button class=\"colab-df-convert\" onclick=\"convertToInteractive('df-0e81c870-09a2-456a-a174-3583c8e7909a')\"\n",
              "              title=\"Convert this dataframe to an interactive table.\"\n",
              "              style=\"display:none;\">\n",
              "        \n",
              "  <svg xmlns=\"http://www.w3.org/2000/svg\" height=\"24px\"viewBox=\"0 0 24 24\"\n",
              "       width=\"24px\">\n",
              "    <path d=\"M0 0h24v24H0V0z\" fill=\"none\"/>\n",
              "    <path d=\"M18.56 5.44l.94 2.06.94-2.06 2.06-.94-2.06-.94-.94-2.06-.94 2.06-2.06.94zm-11 1L8.5 8.5l.94-2.06 2.06-.94-2.06-.94L8.5 2.5l-.94 2.06-2.06.94zm10 10l.94 2.06.94-2.06 2.06-.94-2.06-.94-.94-2.06-.94 2.06-2.06.94z\"/><path d=\"M17.41 7.96l-1.37-1.37c-.4-.4-.92-.59-1.43-.59-.52 0-1.04.2-1.43.59L10.3 9.45l-7.72 7.72c-.78.78-.78 2.05 0 2.83L4 21.41c.39.39.9.59 1.41.59.51 0 1.02-.2 1.41-.59l7.78-7.78 2.81-2.81c.8-.78.8-2.07 0-2.86zM5.41 20L4 18.59l7.72-7.72 1.47 1.35L5.41 20z\"/>\n",
              "  </svg>\n",
              "      </button>\n",
              "      \n",
              "  <style>\n",
              "    .colab-df-container {\n",
              "      display:flex;\n",
              "      flex-wrap:wrap;\n",
              "      gap: 12px;\n",
              "    }\n",
              "\n",
              "    .colab-df-convert {\n",
              "      background-color: #E8F0FE;\n",
              "      border: none;\n",
              "      border-radius: 50%;\n",
              "      cursor: pointer;\n",
              "      display: none;\n",
              "      fill: #1967D2;\n",
              "      height: 32px;\n",
              "      padding: 0 0 0 0;\n",
              "      width: 32px;\n",
              "    }\n",
              "\n",
              "    .colab-df-convert:hover {\n",
              "      background-color: #E2EBFA;\n",
              "      box-shadow: 0px 1px 2px rgba(60, 64, 67, 0.3), 0px 1px 3px 1px rgba(60, 64, 67, 0.15);\n",
              "      fill: #174EA6;\n",
              "    }\n",
              "\n",
              "    [theme=dark] .colab-df-convert {\n",
              "      background-color: #3B4455;\n",
              "      fill: #D2E3FC;\n",
              "    }\n",
              "\n",
              "    [theme=dark] .colab-df-convert:hover {\n",
              "      background-color: #434B5C;\n",
              "      box-shadow: 0px 1px 3px 1px rgba(0, 0, 0, 0.15);\n",
              "      filter: drop-shadow(0px 1px 2px rgba(0, 0, 0, 0.3));\n",
              "      fill: #FFFFFF;\n",
              "    }\n",
              "  </style>\n",
              "\n",
              "      <script>\n",
              "        const buttonEl =\n",
              "          document.querySelector('#df-0e81c870-09a2-456a-a174-3583c8e7909a button.colab-df-convert');\n",
              "        buttonEl.style.display =\n",
              "          google.colab.kernel.accessAllowed ? 'block' : 'none';\n",
              "\n",
              "        async function convertToInteractive(key) {\n",
              "          const element = document.querySelector('#df-0e81c870-09a2-456a-a174-3583c8e7909a');\n",
              "          const dataTable =\n",
              "            await google.colab.kernel.invokeFunction('convertToInteractive',\n",
              "                                                     [key], {});\n",
              "          if (!dataTable) return;\n",
              "\n",
              "          const docLinkHtml = 'Like what you see? Visit the ' +\n",
              "            '<a target=\"_blank\" href=https://colab.research.google.com/notebooks/data_table.ipynb>data table notebook</a>'\n",
              "            + ' to learn more about interactive tables.';\n",
              "          element.innerHTML = '';\n",
              "          dataTable['output_type'] = 'display_data';\n",
              "          await google.colab.output.renderOutput(dataTable, element);\n",
              "          const docLink = document.createElement('div');\n",
              "          docLink.innerHTML = docLinkHtml;\n",
              "          element.appendChild(docLink);\n",
              "        }\n",
              "      </script>\n",
              "    </div>\n",
              "  </div>\n",
              "  "
            ]
          },
          "metadata": {},
          "execution_count": 41
        }
      ]
    },
    {
      "cell_type": "code",
      "source": [
        "x_scale = StandardScaler()\n",
        "x = df.loc[:,'bedrooms':'Year'].values\n",
        "x_transformed = x_scale.fit_transform(x)\n",
        "\n",
        "y_scale = StandardScaler()\n",
        "y = df.price.values\n",
        "y = y.reshape(len(y),1)\n",
        "y_transformed = y_scale.fit_transform(y)"
      ],
      "metadata": {
        "id": "k0sTyfjxSi6B"
      },
      "id": "k0sTyfjxSi6B",
      "execution_count": 118,
      "outputs": []
    },
    {
      "cell_type": "code",
      "source": [
        "pca = PCA(0.95)\n",
        "\n",
        "x_pca = pca.fit_transform(x_transformed)"
      ],
      "metadata": {
        "id": "vEk1JnO4fos-"
      },
      "id": "vEk1JnO4fos-",
      "execution_count": 119,
      "outputs": []
    },
    {
      "cell_type": "code",
      "source": [
        "rede_neural = rn(hidden_layer_sizes=(9,9),max_iter=1000)\n",
        "rede_neural.fit(x_pca,y_transformed.ravel())\n",
        "rede_neural.score(x_pca,y_transformed.ravel())"
      ],
      "metadata": {
        "colab": {
          "base_uri": "https://localhost:8080/"
        },
        "id": "_AOha-UzfO1d",
        "outputId": "6a23796e-411e-42e9-ceaa-0649a1d608b9"
      },
      "id": "_AOha-UzfO1d",
      "execution_count": 120,
      "outputs": [
        {
          "output_type": "execute_result",
          "data": {
            "text/plain": [
              "0.8916661577232783"
            ]
          },
          "metadata": {},
          "execution_count": 120
        }
      ]
    },
    {
      "cell_type": "code",
      "source": [
        "resultados_rede_neural = []\n",
        "\n",
        "for i in range(30):\n",
        "    \n",
        "    kfold = KFold(n_splits=10, shuffle=True, random_state=i)\n",
        "\n",
        "    rede_neural = rn()\n",
        "    scores = cross_val_score(rede_neural, x_transformed, y_transformed.ravel(), cv = kfold)\n",
        "    resultados_rede_neural.append(scores.mean())"
      ],
      "metadata": {
        "id": "ajdF5-eTZsqt"
      },
      "id": "ajdF5-eTZsqt",
      "execution_count": null,
      "outputs": []
    },
    {
      "cell_type": "code",
      "source": [
        "pd.Series(resultados_rede_neural).describe()"
      ],
      "metadata": {
        "colab": {
          "base_uri": "https://localhost:8080/"
        },
        "id": "u4vZOA849mGQ",
        "outputId": "50d16dcd-13b8-425a-8492-0fbe29b33adb"
      },
      "id": "u4vZOA849mGQ",
      "execution_count": 122,
      "outputs": [
        {
          "output_type": "execute_result",
          "data": {
            "text/plain": [
              "count    30.000000\n",
              "mean      0.880501\n",
              "std       0.001467\n",
              "min       0.877684\n",
              "25%       0.879342\n",
              "50%       0.880447\n",
              "75%       0.881715\n",
              "max       0.883048\n",
              "dtype: float64"
            ]
          },
          "metadata": {},
          "execution_count": 122
        }
      ]
    }
  ],
  "metadata": {
    "kernelspec": {
      "display_name": "Python 3 (ipykernel)",
      "language": "python",
      "name": "python3"
    },
    "language_info": {
      "codemirror_mode": {
        "name": "ipython",
        "version": 3
      },
      "file_extension": ".py",
      "mimetype": "text/x-python",
      "name": "python",
      "nbconvert_exporter": "python",
      "pygments_lexer": "ipython3",
      "version": "3.9.7"
    },
    "colab": {
      "name": "Regressao_preço.ipynb",
      "provenance": [],
      "collapsed_sections": [],
      "include_colab_link": true
    }
  },
  "nbformat": 4,
  "nbformat_minor": 5
}