{
  "cells": [
    {
      "cell_type": "markdown",
      "metadata": {
        "colab_type": "text",
        "id": "view-in-github"
      },
      "source": [
        "<a href=\"https://colab.research.google.com/github/MarcioB1999/Aprendizado_de_Maquina/blob/main/Regressao_pre%C3%A7o.ipynb\" target=\"_parent\"><img src=\"https://colab.research.google.com/assets/colab-badge.svg\" alt=\"Open In Colab\"/></a>"
      ]
    },
    {
      "cell_type": "code",
      "execution_count": 11,
      "id": "ad4395cc",
      "metadata": {
        "id": "ad4395cc"
      },
      "outputs": [],
      "source": [
        "import pandas as pd\n",
        "import seaborn as sns\n",
        "import numpy as np\n",
        "from matplotlib import pyplot as plt\n",
        "from sklearn import metrics\n",
        "from scipy import stats\n",
        "import matplotlib.gridspec as gridspec\n",
        "from tensorflow import keras\n",
        "import statsmodels.api as sm\n",
        "\n",
        "\n",
        "from sklearn.preprocessing import StandardScaler\n",
        "from sklearn.preprocessing import MinMaxScaler\n",
        "\n",
        "from statsmodels.tsa.seasonal import seasonal_decompose"
      ]
    },
    {
      "cell_type": "markdown",
      "id": "TQZILY19a7pH",
      "metadata": {
        "id": "TQZILY19a7pH"
      },
      "source": [
        "# **Tratamento dos Dados**"
      ]
    },
    {
      "cell_type": "code",
      "execution_count": 8,
      "id": "9a0f6d05",
      "metadata": {
        "colab": {
          "base_uri": "https://localhost:8080/",
          "height": 300
        },
        "id": "9a0f6d05",
        "outputId": "a901adc2-deca-49f7-c5ac-7048b7a1b7a0"
      },
      "outputs": [
        {
          "data": {
            "text/html": [
              "<div>\n",
              "<style scoped>\n",
              "    .dataframe tbody tr th:only-of-type {\n",
              "        vertical-align: middle;\n",
              "    }\n",
              "\n",
              "    .dataframe tbody tr th {\n",
              "        vertical-align: top;\n",
              "    }\n",
              "\n",
              "    .dataframe thead th {\n",
              "        text-align: right;\n",
              "    }\n",
              "</style>\n",
              "<table border=\"1\" class=\"dataframe\">\n",
              "  <thead>\n",
              "    <tr style=\"text-align: right;\">\n",
              "      <th></th>\n",
              "      <th>floors</th>\n",
              "      <th>grade</th>\n",
              "      <th>year</th>\n",
              "      <th>bathrooms</th>\n",
              "      <th>condition</th>\n",
              "      <th>bedrooms</th>\n",
              "      <th>lat</th>\n",
              "      <th>sqft_living</th>\n",
              "      <th>sqft_living15</th>\n",
              "      <th>zipcode</th>\n",
              "      <th>month</th>\n",
              "      <th>dia</th>\n",
              "      <th>year.1</th>\n",
              "    </tr>\n",
              "  </thead>\n",
              "  <tbody>\n",
              "    <tr>\n",
              "      <th>0</th>\n",
              "      <td>2</td>\n",
              "      <td>9</td>\n",
              "      <td>2014</td>\n",
              "      <td>2</td>\n",
              "      <td>4</td>\n",
              "      <td>3.0</td>\n",
              "      <td>47.4635</td>\n",
              "      <td>1970</td>\n",
              "      <td>2340</td>\n",
              "      <td>98027</td>\n",
              "      <td>5</td>\n",
              "      <td>0.0</td>\n",
              "      <td>2014</td>\n",
              "    </tr>\n",
              "    <tr>\n",
              "      <th>1</th>\n",
              "      <td>1</td>\n",
              "      <td>9</td>\n",
              "      <td>2014</td>\n",
              "      <td>2</td>\n",
              "      <td>4</td>\n",
              "      <td>3.0</td>\n",
              "      <td>47.6833</td>\n",
              "      <td>2600</td>\n",
              "      <td>2380</td>\n",
              "      <td>98117</td>\n",
              "      <td>5</td>\n",
              "      <td>0.0</td>\n",
              "      <td>2014</td>\n",
              "    </tr>\n",
              "    <tr>\n",
              "      <th>2</th>\n",
              "      <td>2</td>\n",
              "      <td>8</td>\n",
              "      <td>2014</td>\n",
              "      <td>2</td>\n",
              "      <td>3</td>\n",
              "      <td>5.0</td>\n",
              "      <td>47.5794</td>\n",
              "      <td>2820</td>\n",
              "      <td>2820</td>\n",
              "      <td>98029</td>\n",
              "      <td>5</td>\n",
              "      <td>0.0</td>\n",
              "      <td>2014</td>\n",
              "    </tr>\n",
              "    <tr>\n",
              "      <th>3</th>\n",
              "      <td>2</td>\n",
              "      <td>8</td>\n",
              "      <td>2014</td>\n",
              "      <td>2</td>\n",
              "      <td>3</td>\n",
              "      <td>4.0</td>\n",
              "      <td>47.5150</td>\n",
              "      <td>3310</td>\n",
              "      <td>2380</td>\n",
              "      <td>98065</td>\n",
              "      <td>5</td>\n",
              "      <td>0.0</td>\n",
              "      <td>2014</td>\n",
              "    </tr>\n",
              "    <tr>\n",
              "      <th>4</th>\n",
              "      <td>1</td>\n",
              "      <td>8</td>\n",
              "      <td>2014</td>\n",
              "      <td>2</td>\n",
              "      <td>3</td>\n",
              "      <td>4.0</td>\n",
              "      <td>47.5443</td>\n",
              "      <td>2160</td>\n",
              "      <td>1850</td>\n",
              "      <td>98006</td>\n",
              "      <td>5</td>\n",
              "      <td>0.0</td>\n",
              "      <td>2014</td>\n",
              "    </tr>\n",
              "  </tbody>\n",
              "</table>\n",
              "</div>"
            ],
            "text/plain": [
              "   floors  grade  year  bathrooms  condition  bedrooms      lat  sqft_living  \\\n",
              "0       2      9  2014          2          4       3.0  47.4635         1970   \n",
              "1       1      9  2014          2          4       3.0  47.6833         2600   \n",
              "2       2      8  2014          2          3       5.0  47.5794         2820   \n",
              "3       2      8  2014          2          3       4.0  47.5150         3310   \n",
              "4       1      8  2014          2          3       4.0  47.5443         2160   \n",
              "\n",
              "   sqft_living15  zipcode  month  dia  year.1  \n",
              "0           2340    98027      5  0.0    2014  \n",
              "1           2380    98117      5  0.0    2014  \n",
              "2           2820    98029      5  0.0    2014  \n",
              "3           2380    98065      5  0.0    2014  \n",
              "4           1850    98006      5  0.0    2014  "
            ]
          },
          "execution_count": 8,
          "metadata": {},
          "output_type": "execute_result"
        }
      ],
      "source": [
        "X = pd.read_csv('C:/Users/Marcio/Documents/Aprendizado_de_Maquina/arquivos/X.csv').iloc[:,1:]\n",
        "X.head(5)"
      ]
    },
    {
      "cell_type": "code",
      "execution_count": 9,
      "id": "87f954cf",
      "metadata": {},
      "outputs": [
        {
          "data": {
            "text/html": [
              "<div>\n",
              "<style scoped>\n",
              "    .dataframe tbody tr th:only-of-type {\n",
              "        vertical-align: middle;\n",
              "    }\n",
              "\n",
              "    .dataframe tbody tr th {\n",
              "        vertical-align: top;\n",
              "    }\n",
              "\n",
              "    .dataframe thead th {\n",
              "        text-align: right;\n",
              "    }\n",
              "</style>\n",
              "<table border=\"1\" class=\"dataframe\">\n",
              "  <thead>\n",
              "    <tr style=\"text-align: right;\">\n",
              "      <th></th>\n",
              "      <th>price</th>\n",
              "    </tr>\n",
              "  </thead>\n",
              "  <tbody>\n",
              "    <tr>\n",
              "      <th>0</th>\n",
              "      <td>437500.0</td>\n",
              "    </tr>\n",
              "    <tr>\n",
              "      <th>1</th>\n",
              "      <td>790000.0</td>\n",
              "    </tr>\n",
              "    <tr>\n",
              "      <th>2</th>\n",
              "      <td>675000.0</td>\n",
              "    </tr>\n",
              "    <tr>\n",
              "      <th>3</th>\n",
              "      <td>555000.0</td>\n",
              "    </tr>\n",
              "    <tr>\n",
              "      <th>4</th>\n",
              "      <td>440000.0</td>\n",
              "    </tr>\n",
              "  </tbody>\n",
              "</table>\n",
              "</div>"
            ],
            "text/plain": [
              "      price\n",
              "0  437500.0\n",
              "1  790000.0\n",
              "2  675000.0\n",
              "3  555000.0\n",
              "4  440000.0"
            ]
          },
          "execution_count": 9,
          "metadata": {},
          "output_type": "execute_result"
        }
      ],
      "source": [
        "Y = pd.read_csv('C:/Users/Marcio/Documents/Aprendizado_de_Maquina/arquivos/Y.csv').iloc[:,1:]\n",
        "Y.head(5)"
      ]
    },
    {
      "cell_type": "markdown",
      "id": "0b03be58",
      "metadata": {},
      "source": [
        "# Rede Neural"
      ]
    },
    {
      "cell_type": "code",
      "execution_count": 24,
      "id": "36b4bba7",
      "metadata": {},
      "outputs": [
        {
          "data": {
            "text/plain": [
              "['floors',\n",
              " 'grade',\n",
              " 'year',\n",
              " 'bathrooms',\n",
              " 'condition',\n",
              " 'bedrooms',\n",
              " 'lat',\n",
              " 'zipcode',\n",
              " 'month',\n",
              " 'dia',\n",
              " 'year.1']"
            ]
          },
          "execution_count": 24,
          "metadata": {},
          "output_type": "execute_result"
        }
      ],
      "source": [
        "columnsMinMax = list(X.columns[:7])+list(X.columns[9:])\n",
        "columnsMinMax"
      ]
    },
    {
      "cell_type": "code",
      "execution_count": 25,
      "id": "49abbb6c",
      "metadata": {},
      "outputs": [
        {
          "data": {
            "text/plain": [
              "['sqft_living', 'sqft_living15']"
            ]
          },
          "execution_count": 25,
          "metadata": {},
          "output_type": "execute_result"
        }
      ],
      "source": [
        "columnsStander = list(X.columns[7:9])\n",
        "columnsStander"
      ]
    },
    {
      "cell_type": "code",
      "execution_count": 26,
      "id": "f5c06174",
      "metadata": {},
      "outputs": [],
      "source": [
        "scale_price = StandardScaler()\n",
        "scale_price.fit(Y['price'].values.reshape(len(Y),1))\n",
        "Y['price'] = scale_price.transform(Y['price'].values.reshape(len(Y),1))\n",
        "\n",
        "scaleMinMax = []\n",
        "\n",
        "for column in range(len(columnsMinMax)):\n",
        "    scaleMinMax.append(StandardScaler())\n",
        "    scaleMinMax[column].fit(X[columnsMinMax[column]].values.reshape(len(X),1))\n",
        "    X[columnsMinMax[column]] = scaleMinMax[column].transform(X[columnsMinMax[column]].values.reshape(len(X),1))\n",
        "\n",
        "\n",
        "scaleStander = []\n",
        "for column in range(len(columnsStander)):\n",
        "    scaleStander.append(MinMaxScaler())\n",
        "    scaleStander[column].fit(X[columnsStander[column]].values.reshape(len(X),1))\n",
        "    X[columnsStander[column]] = scaleStander[column].transform(X[columnsStander[column]].values.reshape(len(X),1))\n"
      ]
    },
    {
      "cell_type": "code",
      "execution_count": 27,
      "id": "6bb200fd",
      "metadata": {},
      "outputs": [
        {
          "data": {
            "text/html": [
              "<div>\n",
              "<style scoped>\n",
              "    .dataframe tbody tr th:only-of-type {\n",
              "        vertical-align: middle;\n",
              "    }\n",
              "\n",
              "    .dataframe tbody tr th {\n",
              "        vertical-align: top;\n",
              "    }\n",
              "\n",
              "    .dataframe thead th {\n",
              "        text-align: right;\n",
              "    }\n",
              "</style>\n",
              "<table border=\"1\" class=\"dataframe\">\n",
              "  <thead>\n",
              "    <tr style=\"text-align: right;\">\n",
              "      <th></th>\n",
              "      <th>floors</th>\n",
              "      <th>grade</th>\n",
              "      <th>year</th>\n",
              "      <th>bathrooms</th>\n",
              "      <th>condition</th>\n",
              "      <th>bedrooms</th>\n",
              "      <th>lat</th>\n",
              "      <th>sqft_living</th>\n",
              "      <th>sqft_living15</th>\n",
              "      <th>zipcode</th>\n",
              "      <th>month</th>\n",
              "      <th>dia</th>\n",
              "      <th>year.1</th>\n",
              "    </tr>\n",
              "  </thead>\n",
              "  <tbody>\n",
              "    <tr>\n",
              "      <th>0</th>\n",
              "      <td>1.003503</td>\n",
              "      <td>1.142485</td>\n",
              "      <td>-0.690627</td>\n",
              "      <td>0.340497</td>\n",
              "      <td>0.907505</td>\n",
              "      <td>-0.398880</td>\n",
              "      <td>-0.697082</td>\n",
              "      <td>0.126792</td>\n",
              "      <td>0.334022</td>\n",
              "      <td>-0.952193</td>\n",
              "      <td>-0.505467</td>\n",
              "      <td>-1.845747</td>\n",
              "      <td>-0.690627</td>\n",
              "    </tr>\n",
              "    <tr>\n",
              "      <th>1</th>\n",
              "      <td>-0.808454</td>\n",
              "      <td>1.142485</td>\n",
              "      <td>-0.690627</td>\n",
              "      <td>0.340497</td>\n",
              "      <td>0.907505</td>\n",
              "      <td>-0.398880</td>\n",
              "      <td>0.889370</td>\n",
              "      <td>0.174340</td>\n",
              "      <td>0.340905</td>\n",
              "      <td>0.729900</td>\n",
              "      <td>-0.505467</td>\n",
              "      <td>-1.845747</td>\n",
              "      <td>-0.690627</td>\n",
              "    </tr>\n",
              "    <tr>\n",
              "      <th>2</th>\n",
              "      <td>1.003503</td>\n",
              "      <td>0.291773</td>\n",
              "      <td>-0.690627</td>\n",
              "      <td>0.340497</td>\n",
              "      <td>-0.629159</td>\n",
              "      <td>1.751570</td>\n",
              "      <td>0.139450</td>\n",
              "      <td>0.190943</td>\n",
              "      <td>0.416624</td>\n",
              "      <td>-0.914814</td>\n",
              "      <td>-0.505467</td>\n",
              "      <td>-1.845747</td>\n",
              "      <td>-0.690627</td>\n",
              "    </tr>\n",
              "    <tr>\n",
              "      <th>3</th>\n",
              "      <td>1.003503</td>\n",
              "      <td>0.291773</td>\n",
              "      <td>-0.690627</td>\n",
              "      <td>0.340497</td>\n",
              "      <td>-0.629159</td>\n",
              "      <td>0.676345</td>\n",
              "      <td>-0.325370</td>\n",
              "      <td>0.227925</td>\n",
              "      <td>0.340905</td>\n",
              "      <td>-0.241976</td>\n",
              "      <td>-0.505467</td>\n",
              "      <td>-1.845747</td>\n",
              "      <td>-0.690627</td>\n",
              "    </tr>\n",
              "    <tr>\n",
              "      <th>4</th>\n",
              "      <td>-0.808454</td>\n",
              "      <td>0.291773</td>\n",
              "      <td>-0.690627</td>\n",
              "      <td>0.340497</td>\n",
              "      <td>-0.629159</td>\n",
              "      <td>0.676345</td>\n",
              "      <td>-0.113891</td>\n",
              "      <td>0.141132</td>\n",
              "      <td>0.249699</td>\n",
              "      <td>-1.344682</td>\n",
              "      <td>-0.505467</td>\n",
              "      <td>-1.845747</td>\n",
              "      <td>-0.690627</td>\n",
              "    </tr>\n",
              "    <tr>\n",
              "      <th>...</th>\n",
              "      <td>...</td>\n",
              "      <td>...</td>\n",
              "      <td>...</td>\n",
              "      <td>...</td>\n",
              "      <td>...</td>\n",
              "      <td>...</td>\n",
              "      <td>...</td>\n",
              "      <td>...</td>\n",
              "      <td>...</td>\n",
              "      <td>...</td>\n",
              "      <td>...</td>\n",
              "      <td>...</td>\n",
              "      <td>...</td>\n",
              "    </tr>\n",
              "    <tr>\n",
              "      <th>21603</th>\n",
              "      <td>-0.808454</td>\n",
              "      <td>-0.558939</td>\n",
              "      <td>1.447960</td>\n",
              "      <td>-1.020232</td>\n",
              "      <td>-0.629159</td>\n",
              "      <td>-0.398880</td>\n",
              "      <td>-0.660993</td>\n",
              "      <td>0.066415</td>\n",
              "      <td>0.282395</td>\n",
              "      <td>2.056885</td>\n",
              "      <td>-0.505467</td>\n",
              "      <td>1.188673</td>\n",
              "      <td>1.447960</td>\n",
              "    </tr>\n",
              "    <tr>\n",
              "      <th>21604</th>\n",
              "      <td>1.003503</td>\n",
              "      <td>0.291773</td>\n",
              "      <td>1.447960</td>\n",
              "      <td>0.340497</td>\n",
              "      <td>-0.629159</td>\n",
              "      <td>-1.474106</td>\n",
              "      <td>1.047438</td>\n",
              "      <td>0.081509</td>\n",
              "      <td>0.167097</td>\n",
              "      <td>1.028939</td>\n",
              "      <td>-0.505467</td>\n",
              "      <td>1.188673</td>\n",
              "      <td>1.447960</td>\n",
              "    </tr>\n",
              "    <tr>\n",
              "      <th>21605</th>\n",
              "      <td>-0.808454</td>\n",
              "      <td>-0.558939</td>\n",
              "      <td>1.447960</td>\n",
              "      <td>0.340497</td>\n",
              "      <td>-0.629159</td>\n",
              "      <td>1.751570</td>\n",
              "      <td>0.252768</td>\n",
              "      <td>0.119245</td>\n",
              "      <td>0.253141</td>\n",
              "      <td>-1.325992</td>\n",
              "      <td>-0.505467</td>\n",
              "      <td>-1.845747</td>\n",
              "      <td>1.447960</td>\n",
              "    </tr>\n",
              "    <tr>\n",
              "      <th>21606</th>\n",
              "      <td>-0.808454</td>\n",
              "      <td>-1.409651</td>\n",
              "      <td>1.447960</td>\n",
              "      <td>-1.020232</td>\n",
              "      <td>-0.629159</td>\n",
              "      <td>-1.474106</td>\n",
              "      <td>0.947833</td>\n",
              "      <td>0.083019</td>\n",
              "      <td>0.089658</td>\n",
              "      <td>0.692520</td>\n",
              "      <td>-0.505467</td>\n",
              "      <td>-0.834274</td>\n",
              "      <td>1.447960</td>\n",
              "    </tr>\n",
              "    <tr>\n",
              "      <th>21607</th>\n",
              "      <td>1.003503</td>\n",
              "      <td>0.291773</td>\n",
              "      <td>1.447960</td>\n",
              "      <td>0.340497</td>\n",
              "      <td>2.444168</td>\n",
              "      <td>0.676345</td>\n",
              "      <td>0.827298</td>\n",
              "      <td>0.261132</td>\n",
              "      <td>0.304767</td>\n",
              "      <td>0.692520</td>\n",
              "      <td>-0.505467</td>\n",
              "      <td>0.682936</td>\n",
              "      <td>1.447960</td>\n",
              "    </tr>\n",
              "  </tbody>\n",
              "</table>\n",
              "<p>21608 rows × 13 columns</p>\n",
              "</div>"
            ],
            "text/plain": [
              "         floors     grade      year  bathrooms  condition  bedrooms       lat  \\\n",
              "0      1.003503  1.142485 -0.690627   0.340497   0.907505 -0.398880 -0.697082   \n",
              "1     -0.808454  1.142485 -0.690627   0.340497   0.907505 -0.398880  0.889370   \n",
              "2      1.003503  0.291773 -0.690627   0.340497  -0.629159  1.751570  0.139450   \n",
              "3      1.003503  0.291773 -0.690627   0.340497  -0.629159  0.676345 -0.325370   \n",
              "4     -0.808454  0.291773 -0.690627   0.340497  -0.629159  0.676345 -0.113891   \n",
              "...         ...       ...       ...        ...        ...       ...       ...   \n",
              "21603 -0.808454 -0.558939  1.447960  -1.020232  -0.629159 -0.398880 -0.660993   \n",
              "21604  1.003503  0.291773  1.447960   0.340497  -0.629159 -1.474106  1.047438   \n",
              "21605 -0.808454 -0.558939  1.447960   0.340497  -0.629159  1.751570  0.252768   \n",
              "21606 -0.808454 -1.409651  1.447960  -1.020232  -0.629159 -1.474106  0.947833   \n",
              "21607  1.003503  0.291773  1.447960   0.340497   2.444168  0.676345  0.827298   \n",
              "\n",
              "       sqft_living  sqft_living15   zipcode     month       dia    year.1  \n",
              "0         0.126792       0.334022 -0.952193 -0.505467 -1.845747 -0.690627  \n",
              "1         0.174340       0.340905  0.729900 -0.505467 -1.845747 -0.690627  \n",
              "2         0.190943       0.416624 -0.914814 -0.505467 -1.845747 -0.690627  \n",
              "3         0.227925       0.340905 -0.241976 -0.505467 -1.845747 -0.690627  \n",
              "4         0.141132       0.249699 -1.344682 -0.505467 -1.845747 -0.690627  \n",
              "...            ...            ...       ...       ...       ...       ...  \n",
              "21603     0.066415       0.282395  2.056885 -0.505467  1.188673  1.447960  \n",
              "21604     0.081509       0.167097  1.028939 -0.505467  1.188673  1.447960  \n",
              "21605     0.119245       0.253141 -1.325992 -0.505467 -1.845747  1.447960  \n",
              "21606     0.083019       0.089658  0.692520 -0.505467 -0.834274  1.447960  \n",
              "21607     0.261132       0.304767  0.692520 -0.505467  0.682936  1.447960  \n",
              "\n",
              "[21608 rows x 13 columns]"
            ]
          },
          "execution_count": 27,
          "metadata": {},
          "output_type": "execute_result"
        }
      ],
      "source": [
        "X"
      ]
    },
    {
      "cell_type": "code",
      "execution_count": 28,
      "id": "73a7d217",
      "metadata": {},
      "outputs": [],
      "source": [
        "X_train,X_test = X[:int(len(X)*0.8)], X[int(len(X)*0.8):]\n",
        "Y_train,Y_test = Y[:int(len(Y)*0.8)], Y[int(len(Y)*0.8):]"
      ]
    },
    {
      "cell_type": "code",
      "execution_count": 27,
      "id": "2bceb1c2",
      "metadata": {},
      "outputs": [],
      "source": [
        "model = keras.Sequential([\n",
        "    keras.layers.Dense(11,activation='elu',input_shape=[len(X_train.columns)]),\n",
        "    keras.layers.Dense(11,activation='elu'),\n",
        "    keras.layers.Dense(11,activation='elu'),\n",
        "    keras.layers.Dense(1)\n",
        "])"
      ]
    },
    {
      "cell_type": "code",
      "execution_count": 28,
      "id": "bdb9d025",
      "metadata": {},
      "outputs": [],
      "source": [
        "optimizer = keras.optimizers.RMSprop(0.1,)\n",
        "model.compile(\n",
        "    loss='mse',\n",
        "    metrics=['mae','mse','mape']\n",
        ")"
      ]
    },
    {
      "cell_type": "code",
      "execution_count": 29,
      "id": "a2428c58",
      "metadata": {},
      "outputs": [],
      "source": [
        "history = model.fit(\n",
        "    x=X_train,\n",
        "    y=Y_train,\n",
        "    epochs = 500,\n",
        "    verbose = 0\n",
        ")"
      ]
    },
    {
      "cell_type": "code",
      "execution_count": 30,
      "id": "a83dc398",
      "metadata": {},
      "outputs": [],
      "source": [
        "hist_df = pd.DataFrame(history.history)"
      ]
    },
    {
      "cell_type": "code",
      "execution_count": 31,
      "id": "30be2ec1",
      "metadata": {},
      "outputs": [
        {
          "data": {
            "text/plain": [
              "([<matplotlib.axis.XTick at 0x185d3ab1210>,\n",
              "  <matplotlib.axis.XTick at 0x185d3d7f9d0>],\n",
              " [Text(0, 0, '0'), Text(100, 0, '100')])"
            ]
          },
          "execution_count": 31,
          "metadata": {},
          "output_type": "execute_result"
        },
        {
          "data": {
            "image/png": "[encoded data removed]",
            "text/plain": [
              "<Figure size 600x400 with 3 Axes>"
            ]
          },
          "metadata": {},
          "output_type": "display_data"
        }
      ],
      "source": [
        "fig=plt.figure(figsize=(6,4))\n",
        "plt.subplots_adjust(wspace=0.3, hspace=0.6)\n",
        "\n",
        "ax=fig.add_subplot(3,1,1)\n",
        "ax.set_title('LOSS',fontsize=8)\n",
        "plt.plot(hist_df.loss)\n",
        "plt.xticks([0,100])\n",
        "\n",
        "ax=fig.add_subplot(3,1,2)\n",
        "ax.set_title('MAE',fontsize=8)\n",
        "plt.plot(hist_df.mae)\n",
        "plt.xticks([0,100])\n",
        "\n",
        "ax=fig.add_subplot(3,1,3)\n",
        "ax.set_title('MSE',fontsize=8)\n",
        "plt.plot(hist_df.mse)\n",
        "plt.xticks([0,100])"
      ]
    },
    {
      "cell_type": "code",
      "execution_count": 32,
      "id": "ca6c5c34",
      "metadata": {},
      "outputs": [
        {
          "name": "stdout",
          "output_type": "stream",
          "text": [
            "136/136 [==============================] - 2s 4ms/step - loss: 0.5328 - mae: 0.4726 - mse: 0.5328 - mape: 523.1072\n",
            "Loss = 0.5328448414802551\n",
            "MAE = 0.4725886881351471\n",
            "MSE = 0.5328448414802551\n",
            "MAPE = 523.1072387695312\n"
          ]
        }
      ],
      "source": [
        "metrics = model.evaluate(X_test,Y_test)\n",
        "print(f\"Loss = {metrics[0]}\")\n",
        "print(f\"MAE = {metrics[1]}\")\n",
        "print(f\"MSE = {metrics[2]}\")\n",
        "print(f\"MAPE = {metrics[3]}\")"
      ]
    },
    {
      "cell_type": "code",
      "execution_count": 33,
      "id": "bed8809e",
      "metadata": {},
      "outputs": [
        {
          "name": "stdout",
          "output_type": "stream",
          "text": [
            "136/136 [==============================] - 1s 3ms/step\n"
          ]
        }
      ],
      "source": [
        "predict = model.predict(X_test).flatten()"
      ]
    },
    {
      "cell_type": "code",
      "execution_count": 34,
      "id": "f95adf8f",
      "metadata": {},
      "outputs": [],
      "source": [
        "residuos = Y_test-predict"
      ]
    },
    {
      "cell_type": "code",
      "execution_count": 35,
      "id": "d4dbed66",
      "metadata": {},
      "outputs": [
        {
          "data": {
            "text/plain": [
              "Text(0.5, 0, 'Previsão')"
            ]
          },
          "execution_count": 35,
          "metadata": {},
          "output_type": "execute_result"
        },
        {
          "data": {
            "image/png": "[encoded data removed]",
            "text/plain": [
              "<Figure size 800x600 with 4 Axes>"
            ]
          },
          "metadata": {},
          "output_type": "display_data"
        }
      ],
      "source": [
        "fig=plt.figure(figsize=(8,6))\n",
        "titulo = ['(a)','(b)','(c)','(d)']\n",
        "plt.subplots_adjust(wspace=0.4, hspace=0.4)\n",
        "\n",
        "ax=fig.add_subplot(2,2,3)\n",
        "ax.set_title(titulo[2])\n",
        "plt. axhline(y=0,xmin=0,xmax=len(residuos),color='black', linewidth=1)\n",
        "plt.plot(range(len(residuos)),residuos,marker='.', linewidth=1)\n",
        "plt.ylabel('Resíduo',fontsize=9)\n",
        "plt.xlabel('Ordem de Observação',fontsize=9)\n",
        "\n",
        "ax=fig.add_subplot(2,2,2)\n",
        "ax.set_title(titulo[1])\n",
        "sns.kdeplot(residuos,label=\"Residuo\", linewidth=1)\n",
        "normal = np.random.normal(0, 1,2000000)\n",
        "sns.kdeplot(normal,label='Normal(0,1)', linewidth=1,color='red')\n",
        "plt.legend()\n",
        "plt.yticks([])\n",
        "plt.ylabel([], fontsize=0)\n",
        "plt.xlabel('Resíduo',fontsize=9)\n",
        "\n",
        "ax=fig.add_subplot(2,2,1)\n",
        "ax.set_title(titulo[0])\n",
        "sm.qqplot(residuos,fit=True,line='45',ax=ax)\n",
        "\n",
        "ax=fig.add_subplot(2,2,4)\n",
        "ax.set_title(titulo[3])\n",
        "plt.scatter(predict,residuos)\n",
        "plt.axhline(y=0,xmin=0,xmax=len(predict),color='black', linewidth=1)\n",
        "plt.ylabel('Resíduo',fontsize=9)\n",
        "plt.xlabel('Previsão',fontsize=9)"
      ]
    },
    {
      "cell_type": "markdown",
      "id": "84b53889",
      "metadata": {},
      "source": []
    }
  ],
  "metadata": {
    "colab": {
      "collapsed_sections": [],
      "include_colab_link": true,
      "name": "Regressao_preço.ipynb",
      "provenance": []
    },
    "kernelspec": {
      "display_name": "Python 3 (ipykernel)",
      "language": "python",
      "name": "python3"
    },
    "language_info": {
      "codemirror_mode": {
        "name": "ipython",
        "version": 3
      },
      "file_extension": ".py",
      "mimetype": "text/x-python",
      "name": "python",
      "nbconvert_exporter": "python",
      "pygments_lexer": "ipython3",
      "version": "3.11.4"
    }
  },
  "nbformat": 4,
  "nbformat_minor": 5
}
